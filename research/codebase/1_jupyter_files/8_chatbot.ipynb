{
  "cells": [
    {
      "cell_type": "markdown",
      "metadata": {
        "id": "view-in-github",
        "colab_type": "text"
      },
      "source": [
        "<a href=\"https://colab.research.google.com/github/rahulbhoyar1995/KaggleGPT-Research/blob/main/research/codebase/1_jupyter_files/8_chatbot.ipynb\" target=\"_parent\"><img src=\"https://colab.research.google.com/assets/colab-badge.svg\" alt=\"Open In Colab\"/></a>"
      ]
    },
    {
      "cell_type": "code",
      "source": [
        "pip install python-dotenv"
      ],
      "metadata": {
        "id": "8P2_7CW5bBU0",
        "colab": {
          "base_uri": "https://localhost:8080/"
        },
        "outputId": "5672e0fa-621c-4d75-d3cb-92801debf4a6"
      },
      "id": "8P2_7CW5bBU0",
      "execution_count": 31,
      "outputs": [
        {
          "output_type": "stream",
          "name": "stdout",
          "text": [
            "Requirement already satisfied: python-dotenv in /usr/local/lib/python3.10/dist-packages (1.0.1)\n"
          ]
        }
      ]
    },
    {
      "cell_type": "code",
      "source": [
        "!ls -a"
      ],
      "metadata": {
        "colab": {
          "base_uri": "https://localhost:8080/"
        },
        "id": "Kjd7kbkNcEMt",
        "outputId": "4a4c4af7-2f15-4cd6-d094-8ac4c4395990"
      },
      "id": "Kjd7kbkNcEMt",
      "execution_count": 32,
      "outputs": [
        {
          "output_type": "stream",
          "name": "stdout",
          "text": [
            ".  ..  .config\t.env  .ipynb_checkpoints  knowlege_base_kaggle_datasets.pdf  sample_data\n"
          ]
        }
      ]
    },
    {
      "cell_type": "code",
      "source": [
        "from dotenv import load_dotenv"
      ],
      "metadata": {
        "id": "Frlb6PNBa87M"
      },
      "id": "Frlb6PNBa87M",
      "execution_count": 33,
      "outputs": []
    },
    {
      "cell_type": "code",
      "execution_count": 34,
      "id": "7605d391-4011-40f4-a0e0-aee5678eff92",
      "metadata": {
        "id": "7605d391-4011-40f4-a0e0-aee5678eff92",
        "outputId": "519d8f6c-b9c9-465f-f7ed-c9a41520a0ca",
        "colab": {
          "base_uri": "https://localhost:8080/"
        }
      },
      "outputs": [
        {
          "output_type": "execute_result",
          "data": {
            "text/plain": [
              "True"
            ]
          },
          "metadata": {},
          "execution_count": 34
        }
      ],
      "source": [
        "load_dotenv()"
      ]
    },
    {
      "cell_type": "code",
      "source": [
        "pip install openai"
      ],
      "metadata": {
        "colab": {
          "base_uri": "https://localhost:8080/"
        },
        "id": "G9Hq79shcJlm",
        "outputId": "8dee1163-97ec-4cab-d047-ada64276431b"
      },
      "id": "G9Hq79shcJlm",
      "execution_count": 35,
      "outputs": [
        {
          "output_type": "stream",
          "name": "stdout",
          "text": [
            "Requirement already satisfied: openai in /usr/local/lib/python3.10/dist-packages (1.30.1)\n",
            "Requirement already satisfied: anyio<5,>=3.5.0 in /usr/local/lib/python3.10/dist-packages (from openai) (3.7.1)\n",
            "Requirement already satisfied: distro<2,>=1.7.0 in /usr/lib/python3/dist-packages (from openai) (1.7.0)\n",
            "Requirement already satisfied: httpx<1,>=0.23.0 in /usr/local/lib/python3.10/dist-packages (from openai) (0.27.0)\n",
            "Requirement already satisfied: pydantic<3,>=1.9.0 in /usr/local/lib/python3.10/dist-packages (from openai) (2.7.1)\n",
            "Requirement already satisfied: sniffio in /usr/local/lib/python3.10/dist-packages (from openai) (1.3.1)\n",
            "Requirement already satisfied: tqdm>4 in /usr/local/lib/python3.10/dist-packages (from openai) (4.66.4)\n",
            "Requirement already satisfied: typing-extensions<5,>=4.7 in /usr/local/lib/python3.10/dist-packages (from openai) (4.11.0)\n",
            "Requirement already satisfied: idna>=2.8 in /usr/local/lib/python3.10/dist-packages (from anyio<5,>=3.5.0->openai) (3.7)\n",
            "Requirement already satisfied: exceptiongroup in /usr/local/lib/python3.10/dist-packages (from anyio<5,>=3.5.0->openai) (1.2.1)\n",
            "Requirement already satisfied: certifi in /usr/local/lib/python3.10/dist-packages (from httpx<1,>=0.23.0->openai) (2024.2.2)\n",
            "Requirement already satisfied: httpcore==1.* in /usr/local/lib/python3.10/dist-packages (from httpx<1,>=0.23.0->openai) (1.0.5)\n",
            "Requirement already satisfied: h11<0.15,>=0.13 in /usr/local/lib/python3.10/dist-packages (from httpcore==1.*->httpx<1,>=0.23.0->openai) (0.14.0)\n",
            "Requirement already satisfied: annotated-types>=0.4.0 in /usr/local/lib/python3.10/dist-packages (from pydantic<3,>=1.9.0->openai) (0.6.0)\n",
            "Requirement already satisfied: pydantic-core==2.18.2 in /usr/local/lib/python3.10/dist-packages (from pydantic<3,>=1.9.0->openai) (2.18.2)\n"
          ]
        }
      ]
    },
    {
      "cell_type": "code",
      "source": [
        "from typing_extensions import override\n",
        "from openai import AssistantEventHandler, OpenAI\n",
        "\n",
        "client = OpenAI()\n",
        "\n",
        "class EventHandler(AssistantEventHandler):\n",
        "    @override\n",
        "    def on_text_created(self, text) -> None:\n",
        "        print(f\"\\nassistant > \", end=\"\", flush=True)\n",
        "\n",
        "    @override\n",
        "    def on_tool_call_created(self, tool_call):\n",
        "        print(f\"\\nassistant > {tool_call.type}\\n\", flush=True)\n",
        "\n",
        "    @override\n",
        "    def on_message_done(self, message) -> None:\n",
        "        # print a citation to the file searched\n",
        "        message_content = message.content[0].text\n",
        "        annotations = message_content.annotations\n",
        "        citations = []\n",
        "        for index, annotation in enumerate(annotations):\n",
        "            message_content.value = message_content.value.replace(\n",
        "                annotation.text, f\"[{index}]\"\n",
        "            )\n",
        "            if file_citation := getattr(annotation, \"file_citation\", None):\n",
        "                cited_file = client.files.retrieve(file_citation.file_id)\n",
        "                citations.append(f\"[{index}] {cited_file.filename}\")\n",
        "\n",
        "        print(message_content.value)\n",
        "        print(\"-\"*100)\n",
        "        print(\"Citations :\")\n",
        "        print(\"\\n\".join(citations))\n"
      ],
      "metadata": {
        "id": "JKhIAroQvcx3"
      },
      "id": "JKhIAroQvcx3",
      "execution_count": 36,
      "outputs": []
    },
    {
      "cell_type": "code",
      "source": [
        "from openai import OpenAI\n",
        "\n",
        "\n",
        "class LLMChatBot:\n",
        "  def __init__(self):\n",
        "      self.client = OpenAI()\n",
        "      self.assistant = None\n",
        "      self.vector_store = None\n",
        "      self.thread = None\n",
        "      self.run = None\n",
        "\n",
        "  def creation_of_assistant(self,instructions_text):\n",
        "      self.assistant = self.client.beta.assistants.create(\n",
        "      name=\"Kaggle Based Recommendation System\",\n",
        "      instructions=instructions_text,\n",
        "      model=\"gpt-4o\",\n",
        "      tools=[{\"type\": \"file_search\"}],)\n",
        "\n",
        "\n",
        "  def creation_of_vector_store(self,pdf_file_path):\n",
        "      self.vector_store = self.client.beta.vector_stores.create(name=\"Financial Statements\")\n",
        "      # Ready the files for upload to OpenAI\n",
        "      file_paths = [pdf_file_path] # You can add multiple files here\n",
        "      file_streams = [open(path, \"rb\") for path in file_paths]\n",
        "\n",
        "      # Use the upload and poll SDK helper to upload the files, add them to the vector store,\n",
        "      # and poll the status of the file batch for completion.\n",
        "      file_batch = self.client.beta.vector_stores.file_batches.upload_and_poll(vector_store_id=self.vector_store.id, files=file_streams)\n",
        "\n",
        "\n",
        "  def updating_assistant(self):\n",
        "      self.assistant = self.client.beta.assistants.update(\n",
        "      assistant_id = self.assistant.id,\n",
        "      tool_resources={\"file_search\": {\"vector_store_ids\": [self.vector_store.id]}},)\n",
        "\n",
        "\n",
        "  def creation_of_thread(self):\n",
        "      self.thread = self.client.beta.threads.create()\n",
        "\n",
        "\n",
        "  def response(self,query, streaming = False):\n",
        "      self.client.beta.threads.messages.create(\n",
        "      thread_id=self.thread.id,\n",
        "      role=\"user\",\n",
        "      content=query)\n",
        "\n",
        "      if not streaming:\n",
        "          # Without streaming\n",
        "          run = client.beta.threads.runs.create_and_poll(thread_id= self.thread.id, assistant_id= self.assistant.id)\n",
        "          messages = list(client.beta.threads.messages.list(thread_id=self.thread.id, run_id=run.id))\n",
        "\n",
        "          message_content = messages[0].content[0].text\n",
        "          annotations = message_content.annotations\n",
        "          citations = []\n",
        "          for index, annotation in enumerate(annotations):\n",
        "              message_content.value = message_content.value.replace(annotation.text, f\"[{index}]\")\n",
        "              if file_citation := getattr(annotation, \"file_citation\", None):\n",
        "                  cited_file = client.files.retrieve(file_citation.file_id)\n",
        "                  citations.append(f\"[{index}] {cited_file.filename}\")\n",
        "\n",
        "          #print(message_content.value)\n",
        "          print(\"-\"*100)\n",
        "          print(\"Citations :\")\n",
        "          print(\"\\n\".join(citations))\n",
        "          citations_text = \"\\n\".join(citations)\n",
        "          return message_content.value , citations_text\n",
        "\n",
        "\n",
        "      #With streaming\n",
        "      with self.client.beta.threads.runs.stream(\n",
        "          thread_id= self.thread.id,\n",
        "          assistant_id= self.assistant.id,\n",
        "          instructions=\"You are Kaggle Dataset Recommender system.\",\n",
        "          event_handler=EventHandler(),) as stream:\n",
        "          stream.until_done()\n",
        ""
      ],
      "metadata": {
        "id": "9LN416qYjIC1"
      },
      "id": "9LN416qYjIC1",
      "execution_count": 37,
      "outputs": []
    },
    {
      "cell_type": "code",
      "source": [
        "instructions = \"\"\"\n",
        "Project Exposé must be in computer science, machine learning, and artificial intelligence in general. Students might not give a precise description and ideas. They just want to have any proposed topics with datasets.\n",
        "        Your tasks are as follows:\n",
        "        1. You should provide at least 10 different datasets on computer vision, natural language processing, or time series.\n",
        "        2. You should display results in a table for easy viewing.\n",
        "        3. You should group datasets by topic.\n",
        "        4. The response should have the Kaggle Datasets link.\n",
        "\n",
        "        You identify the input language and give the response in the same language, However, you should provide the dataset's information in English.\n",
        "\"\"\""
      ],
      "metadata": {
        "id": "6pDjqOZQzRGt"
      },
      "id": "6pDjqOZQzRGt",
      "execution_count": 38,
      "outputs": []
    },
    {
      "cell_type": "code",
      "source": [
        "llm_obj = LLMChatBot()\n",
        "llm_obj.creation_of_assistant(instructions)\n",
        "llm_obj.creation_of_vector_store(\"knowlege_base_kaggle_datasets.pdf\")\n",
        "llm_obj.creation_of_thread()\n",
        "llm_obj.updating_assistant()"
      ],
      "metadata": {
        "id": "0HnaoQ7zwC3y"
      },
      "id": "0HnaoQ7zwC3y",
      "execution_count": 39,
      "outputs": []
    },
    {
      "cell_type": "code",
      "source": [
        "query =\"\"\"\n",
        "\n",
        "Hope you are doing well. Myself Saddam Rafiq. I am your student of Deep Learning. First of all, I would like to share that my learning experience with you are very helpful, the way you taught us is unique and meaningful.I am writing to express my interest in the possibility of working on my master's thesis under your supervision.I want you to be my supervisor so I can perform well in my thesis.I will be waiting for your kind response.\n",
        "\n",
        "\"\"\""
      ],
      "metadata": {
        "id": "IlmhZJFLzqZn"
      },
      "id": "IlmhZJFLzqZn",
      "execution_count": 40,
      "outputs": []
    },
    {
      "cell_type": "markdown",
      "source": [
        "## CASE 1: WITHOUT STREAMING"
      ],
      "metadata": {
        "id": "Jklh_cCpSYNC"
      },
      "id": "Jklh_cCpSYNC"
    },
    {
      "cell_type": "code",
      "source": [
        "response_1,citations_text = llm_obj.response(query)\n"
      ],
      "metadata": {
        "colab": {
          "base_uri": "https://localhost:8080/"
        },
        "id": "9egNUcLS75YZ",
        "outputId": "c63e33e7-01a7-42e0-85cb-f8931f4567bb"
      },
      "id": "9egNUcLS75YZ",
      "execution_count": 41,
      "outputs": [
        {
          "output_type": "stream",
          "name": "stdout",
          "text": [
            "----------------------------------------------------------------------------------------------------\n",
            "Citations :\n",
            "[0] knowlege_base_kaggle_datasets.pdf\n",
            "[1] knowlege_base_kaggle_datasets.pdf\n",
            "[2] knowlege_base_kaggle_datasets.pdf\n",
            "[3] knowlege_base_kaggle_datasets.pdf\n",
            "[4] knowlege_base_kaggle_datasets.pdf\n",
            "[5] knowlege_base_kaggle_datasets.pdf\n",
            "[6] knowlege_base_kaggle_datasets.pdf\n",
            "[7] knowlege_base_kaggle_datasets.pdf\n"
          ]
        }
      ]
    },
    {
      "cell_type": "code",
      "source": [
        "response_1"
      ],
      "metadata": {
        "colab": {
          "base_uri": "https://localhost:8080/",
          "height": 157
        },
        "id": "5r7QpTfyDe-t",
        "outputId": "d16d6d9c-2dbf-4817-c300-bb8555163b88"
      },
      "id": "5r7QpTfyDe-t",
      "execution_count": 42,
      "outputs": [
        {
          "output_type": "execute_result",
          "data": {
            "text/plain": [
              "\"I'm glad to hear you've had a positive learning experience in your Deep Learning course! Here are some proposed topics for your thesis in the fields of Computer Vision, Natural Language Processing (NLP), and Time Series analysis, along with relevant datasets hosted on Kaggle.\\n\\n### Proposed Topics and Datasets\\n\\n#### Computer Vision\\n1. **Skin Lesion Classification** - Classify different types of skin lesions to aid in medical diagnosis.\\n   - [Skin Lesions Classification Dataset](https://www.kaggle.com/datasets/ahmedxc4/skin-ds)[0]\\n\\n2. **Facial Emotion Recognition** - Detect and classify emotions from facial images.\\n   - [Facial Emotion Recognition Image Dataset](https://www.kaggle.com/datasets/sujaykapadnis/emotion-recognition-dataset) \\n\\n3. **Astronomy Image Classification** - Classify images of celestial objects for astronomical research.\\n   - [Astronomy Image Classification Dataset](https://www.kaggle.com/datasets/abhikalpsrivastava15/space-images-category)[1]\\n\\n#### Natural Language Processing (NLP)\\n4. **Fake News Detection** - Develop models to identify and classify fake news articles.\\n   - [Fake News Detection Dataset_English](https://www.kaggle.com/datasets/sadikaljarif/fake-news-detection-dataset-english)[2]\\n\\n5. **Text-to-Image Synthesis** - Generate images from textual descriptions using GANs.\\n   - [Midjourney User Prompts & Generated Images (250k)](https://www.kaggle.com/datasets/succinctlyai/midjourney-texttoimage)[0]\\n\\n6. **NLP in Regional Languages** - Build models for natural language processing in languages like Tamil.\\n   - [Tamil NLP](https://www.kaggle.com/datasets/sudalairajkumar/tamil-nlp)[1]\\n\\n#### Time Series Analysis\\n7. **Cryptocurrency Price Prediction** - Predict the prices of various cryptocurrencies using historical data.\\n   - [Cryptocurrency Historical Prices](https://www.kaggle.com/datasets/sudalairajkumar/cryptocurrencypricehistory)[0]\\n\\n8. **Sunspot Activity Prediction** - Predict sunspot activities, which are crucial for understanding solar dynamics.\\n   - [Daily Sun Spot Data (1818 to 2019)](https://www.kaggle.com/datasets/abhinand05/daily-sun-spot-data-1818-to-2019)[1]\\n\\n9. **Healthcare Forecasting (COVID-19)** - Analyze and predict the spread of COVID-19.\\n   - [COVID-19 in India](https://www.kaggle.com/datasets/sudalairajkumar/covid19-in-india)[7]\\n\\n10. **EEG and fMRI Data Analysis** - Analyze brain activity data for neurological research.\\n    - [EEG and fMRI data of ASD and TD](https://www.kaggle.com/datasets/abdurrasoolphd/eeg-and-fmri-data-of-asd-and-td) \\n\\n### Summary Table\\n| Topic                               | Dataset Name                                         | Link                                                                                    |\\n|-------------------------------------|------------------------------------------------------|-----------------------------------------------------------------------------------------|\\n| Skin Lesion Classification          | Skin Lesions Classification Dataset                  | [Link](https://www.kaggle.com/datasets/ahmedxc4/skin-ds)                                 |\\n| Facial Emotion Recognition          | Facial Emotion Recognition Image Dataset             | [Link](https://www.kaggle.com/datasets/sujaykapadnis/emotion-recognition-dataset)        |\\n| Astronomy Image Classification      | Astronomy Image Classification Dataset               | [Link](https://www.kaggle.com/datasets/abhikalpsrivastava15/space-images-category)       |\\n| Fake News Detection                 | Fake News Detection Dataset_English                  | [Link](https://www.kaggle.com/datasets/sadikaljarif/fake-news-detection-dataset-english) |\\n| Text-to-Image Synthesis             | Midjourney User Prompts & Generated Images (250k)    | [Link](https://www.kaggle.com/datasets/succinctlyai/midjourney-texttoimage)              |\\n| NLP in Regional Languages           | Tamil NLP                                            | [Link](https://www.kaggle.com/datasets/sudalairajkumar/tamil-nlp)                        |\\n| Cryptocurrency Price Prediction     | Cryptocurrency Historical Prices                     | [Link](https://www.kaggle.com/datasets/sudalairajkumar/cryptocurrencypricehistory)       |\\n| Sunspot Activity Prediction         | Daily Sun Spot Data (1818 to 2019)                   | [Link](https://www.kaggle.com/datasets/abhinand05/daily-sun-spot-data-1818-to-2019)      |\\n| Healthcare Forecasting (COVID-19)   | COVID-19 in India                                    | [Link](https://www.kaggle.com/datasets/sudalairajkumar/covid19-in-india)                 |\\n| EEG and fMRI Data Analysis          | EEG and fMRI data of ASD and TD                      | [Link](https://www.kaggle.com/datasets/abdurrasoolphd/eeg-and-fmri-data-of-asd-and-td)   |\\n\\nI hope you find this information useful for your thesis. Feel free to reach out if you need further assistance or have specific preferences for your research topics.\""
            ],
            "application/vnd.google.colaboratory.intrinsic+json": {
              "type": "string"
            }
          },
          "metadata": {},
          "execution_count": 42
        }
      ]
    },
    {
      "cell_type": "markdown",
      "source": [
        "Hello Saddam Rafiq,\n",
        "\n",
        "Thank you for reaching out and sharing your positive experience in my Deep Learning course. I'm glad to hear that you found the teaching methods effective and meaningful.\n",
        "\n",
        "For your master's thesis, I'd be happy to discuss potential topics you could explore under my supervision. Below, I have proposed several datasets related to computer vision, natural language processing, and time series which you might find interesting for your research:\n",
        "\n",
        "| **Topic**               | **Dataset**                                                                                     |                                                                 **Kaggle Link** |\n",
        "|-------------------------|-------------------------------------------------------------------------------------------------|------------------------------------------------------------------------------|\n",
        "| **Computer Vision**     | Intel Image Classification                                                                      | [Intel Image Classification](https://www.kaggle.com/puneet6060/intel-image-classification)        |\n",
        "| **Computer Vision**     | COVID-19 Radiography Database                                                                   | [COVID-19 Radiography Database](https://www.kaggle.com/tawsifurrahman/covid19-radiography-database)|\n",
        "| **Computer Vision**     | Plant Seedlings Classification                                                                  | [Plant Seedlings Classification](https://www.kaggle.com/c/plant-seedlings-classification)          |\n",
        "| **Computer Vision**     | Street View House Numbers                                                                       | [Street View House Numbers](https://www.kaggle.com/competitions/svhn-cropped)                      |\n",
        "| **Natural Language Processing (NLP)** | Twitter Sentiment Analysis                                                         | [Twitter Sentiment Analysis](https://www.kaggle.com/kazanova/sentiment140)                         |\n",
        "| **Natural Language Processing (NLP)** | 20 Newsgroups                                                                      | [20 Newsgroups](https://www.kaggle.com/c/20-newsgroups-classifier/data)                            |\n",
        "| **Natural Language Processing (NLP)** | IMDb Movie Reviews                                                                 | [IMDb Movie Reviews](https://www.kaggle.com/lakshmi25npathi/imdb-dataset-of-50k-movie-reviews)     |\n",
        "| **Natural Language Processing (NLP)** | Quora Question Pairs                                                               | [Quora Question Pairs](https://www.kaggle.com/c/quora-question-pairs)                              |\n",
        "| **Time Series**         | UCI Electricity Load                                                                           | [UCI Electricity Load Forecasting](https://www.kaggle.com/syuryu/forecasting-electricity-loadsj)   |\n",
        "| **Time Series**         | Stocks Data                                                                                     | [Stocks Data](https://www.kaggle.com/borismarjanovic/price-volume-data-for-all-us-stocks-etfs)     |\n",
        "| **Time Series**         | Household Power Consumption                                                                    | [Household Power Consumption](https://www.kaggle.com/uciml/electric-power-consumption-data-set)    |\n",
        "\n",
        "Please take your time to review these datasets and see if any align with your interests. Feel free to propose any other topics or datasets you have in mind. Once you've selected a topic or dataset, we can develop a more detailed plan for your thesis.\n",
        "\n",
        "Looking forward to your response.\n",
        "\n",
        "Best regards,"
      ],
      "metadata": {
        "id": "IInQXZKbUwBF"
      },
      "id": "IInQXZKbUwBF"
    },
    {
      "cell_type": "code",
      "source": [
        "citations_text"
      ],
      "metadata": {
        "colab": {
          "base_uri": "https://localhost:8080/",
          "height": 70
        },
        "id": "pt2GEeP6PZIW",
        "outputId": "5d630c89-0807-42ea-ee16-e207d01ab810"
      },
      "id": "pt2GEeP6PZIW",
      "execution_count": 43,
      "outputs": [
        {
          "output_type": "execute_result",
          "data": {
            "text/plain": [
              "'[0] knowlege_base_kaggle_datasets.pdf\\n[1] knowlege_base_kaggle_datasets.pdf\\n[2] knowlege_base_kaggle_datasets.pdf\\n[3] knowlege_base_kaggle_datasets.pdf\\n[4] knowlege_base_kaggle_datasets.pdf\\n[5] knowlege_base_kaggle_datasets.pdf\\n[6] knowlege_base_kaggle_datasets.pdf\\n[7] knowlege_base_kaggle_datasets.pdf'"
            ],
            "application/vnd.google.colaboratory.intrinsic+json": {
              "type": "string"
            }
          },
          "metadata": {},
          "execution_count": 43
        }
      ]
    },
    {
      "cell_type": "code",
      "source": [
        "response_2,citations_text_2 = llm_obj.response(\"What can you tell me about these datasets ?\")\n"
      ],
      "metadata": {
        "colab": {
          "base_uri": "https://localhost:8080/"
        },
        "id": "paY1utNIDslt",
        "outputId": "5e0147a1-66da-4901-8064-fb4fbbd357f7"
      },
      "id": "paY1utNIDslt",
      "execution_count": 44,
      "outputs": [
        {
          "output_type": "stream",
          "name": "stdout",
          "text": [
            "----------------------------------------------------------------------------------------------------\n",
            "Citations :\n",
            "\n"
          ]
        }
      ]
    },
    {
      "cell_type": "code",
      "source": [
        "response_2"
      ],
      "metadata": {
        "colab": {
          "base_uri": "https://localhost:8080/",
          "height": 157
        },
        "id": "0CPGM7Z9DztU",
        "outputId": "bf16b2eb-d5db-4bef-b35f-cef8377f33c9"
      },
      "id": "0CPGM7Z9DztU",
      "execution_count": 45,
      "outputs": [
        {
          "output_type": "execute_result",
          "data": {
            "text/plain": [
              "\"Sure, here's a brief description of each of the datasets listed:\\n\\n#### Computer Vision\\n1. **Skin Lesions Classification Dataset**\\n   - **Description:** This dataset contains images of various skin lesions, which can be used for training models to classify different types of skin conditions.\\n   - **Size:** 10,000+ images.\\n   - **Applications:** Dermatology, medical diagnosis, computer vision.\\n\\n2. **Facial Emotion Recognition Image Dataset**\\n   - **Description:** This dataset includes images annotated with different emotional labels, such as happy, sad, angry, and more.\\n   - **Size:** 35,000+ images.\\n   - **Applications:** Emotion recognition, human-computer interaction, psychology.\\n\\n3. **Astronomy Image Classification Dataset**\\n   - **Description:** This dataset features images of celestial objects, which can be used to classify them into categories like galaxies, stars, and nebulae.\\n   - **Size:** 100,000+ images.\\n   - **Applications:** Astronomy, astrophysics, image classification.\\n\\n#### Natural Language Processing (NLP)\\n4. **Fake News Detection Dataset_English**\\n   - **Description:** This dataset contains news articles along with labels indicating whether they are real or fake.\\n   - **Size:** 10,000+ articles.\\n   - **Applications:** Fake news detection, sentiment analysis, text classification.\\n\\n5. **Midjourney User Prompts & Generated Images (250k)**\\n   - **Description:** This dataset includes text prompts and their corresponding generated images, useful for training text-to-image synthesis models.\\n   - **Size:** 250,000 prompts/images.\\n   - **Applications:** Text-to-image generation, Generative Adversarial Networks (GANs), creative AI.\\n\\n6. **Tamil NLP**\\n   - **Description:** This dataset consists of text corpus in Tamil, useful for various NLP tasks such as translation, sentiment analysis, and more.\\n   - **Size:** Varied.\\n   - **Applications:** NLP in regional languages, machine translation, linguistic research.\\n\\n#### Time Series Analysis\\n7. **Cryptocurrency Historical Prices**\\n   - **Description:** This dataset provides historical prices of various cryptocurrencies.\\n   - **Size:** Daily prices from inception to present.\\n   - **Applications:** Financial forecasting, cryptocurrency trading, market analysis.\\n\\n8. **Daily Sun Spot Data (1818 to 2019)**\\n   - **Description:** This dataset records daily sunspot numbers over a period of more than 200 years.\\n   - **Size:** Daily data from 1818 to 2019.\\n   - **Applications:** Solar physics, time series analysis, climate studies.\\n\\n9. **COVID-19 in India**\\n   - **Description:** This dataset includes daily reports of COVID-19 cases, deaths, and recoveries in India.\\n   - **Size:** Daily reports from the outbreak to current times.\\n   - **Applications:** Epidemiology, public health analysis, time series forecasting.\\n\\n10. **EEG and fMRI data of ASD and TD**\\n    - **Description:** This dataset includes EEG and fMRI data collected from individuals with Autism Spectrum Disorder (ASD) and typically developing (TD) individuals.\\n    - **Size:** 1,000+ recordings.\\n    - **Applications:** Neurology, medical imaging, time series analysis.\\n\\n### Summary Table\\n\\n| Topic                               | Description                                                                                                                 | Size                        | Applications                                                    |\\n|-------------------------------------|-----------------------------------------------------------------------------------------------------------------------------|-----------------------------|----------------------------------------------------------------|\\n| Skin Lesion Classification          | Images of various skin lesions for medical diagnosis                                                                         | 10,000+ images              | Dermatology, medical diagnosis, computer vision                |\\n| Facial Emotion Recognition          | Annotated images for emotion classification                                                                                 | 35,000+ images              | Emotion recognition, human-computer interaction, psychology     |\\n| Astronomy Image Classification      | Celestial object images for classification into galaxies, stars, nebulae                                                     | 100,000+ images             | Astronomy, astrophysics, image classification                   |\\n| Fake News Detection                 | News articles labeled real or fake                                                                                           | 10,000+ articles            | Fake news detection, sentiment analysis, text classification    |\\n| Text-to-Image Synthesis             | Text prompts and corresponding generated images for training GANs                                                            | 250,000 prompts/images      | Text-to-image synthesis, GANs, creative AI                      |\\n| NLP in Regional Languages           | Tamil text corpus for various NLP tasks                                                                                      | Varied                      | NLP in regional languages, machine translation, linguistic research |\\n| Cryptocurrency Price Prediction     | Historical cryptocurrency prices                                                                                            | Daily prices since inception| Financial forecasting, trading, market analysis                 |\\n| Sunspot Activity Prediction         | Daily sunspot data over more than 200 years                                                                                  | Daily data (1818-2019)      | Solar physics, time series analysis, climate studies            |\\n| Healthcare Forecasting (COVID-19)   | Daily reports of COVID-19 cases in India                                                                                    | Daily reports since outbreak| Epidemiology, public health, time series forecasting            |\\n| EEG and fMRI Data Analysis          | EEG and fMRI data of individuals with ASD and typically developing individuals                                               | 1,000+ recordings           | Neurology, medical imaging, time series analysis                |\\n\\nThese descriptions should help to give you a better understanding of the datasets and their potential applications. If you need further details on any specific dataset or have any other questions, feel free to ask!\""
            ],
            "application/vnd.google.colaboratory.intrinsic+json": {
              "type": "string"
            }
          },
          "metadata": {},
          "execution_count": 45
        }
      ]
    },
    {
      "cell_type": "markdown",
      "source": [
        "Certainly! Below is a brief description of each dataset listed, grouped by topic:\n",
        "\n",
        "### Computer Vision\n",
        "\n",
        "1. **Intel Image Classification**\n",
        "   - **Description**: This dataset contains images of natural scenes categorized into six classes: buildings, forest, glacier, mountain, sea, and street.\n",
        "   - **Link**: [Intel Image Classification](https://www.kaggle.com/puneet6060/intel-image-classification)\n",
        "\n",
        "2. **COVID-19 Radiography Database**\n",
        "   - **Description**: This dataset contains X-ray images of patients with COVID-19, normal, and viral pneumonia. It can be used for the early detection of COVID-19 using radiographs.\n",
        "   - **Link**: [COVID-19 Radiography Database](https://www.kaggle.com/tawsifurrahman/covid19-radiography-database)\n",
        "\n",
        "3. **Plant Seedlings Classification**\n",
        "   - **Description**: The dataset contains images of 12 different species of plant seedlings at various stages of growth. The objective is to classify the plant species.\n",
        "   - **Link**: [Plant Seedlings Classification](https://www.kaggle.com/c/plant-seedlings-classification)\n",
        "\n",
        "4. **Street View House Numbers (SVHN)**\n",
        "   - **Description**: This dataset contains cropped images of digits from street view images. It is used for recognizing digits in natural scene images.\n",
        "   - **Link**: [Street View House Numbers](https://www.kaggle.com/competitions/svhn-cropped)\n",
        "\n",
        "### Natural Language Processing (NLP)\n",
        "\n",
        "5. **Twitter Sentiment Analysis (Sentiment140)**\n",
        "   - **Description**: This dataset contains 1.6 million tweets with labels (positive, negative, neutral). It can be used to train models for sentiment analysis.\n",
        "   - **Link**: [Twitter Sentiment Analysis](https://www.kaggle.com/kazanova/sentiment140)\n",
        "\n",
        "6. **20 Newsgroups**\n",
        "   - **Description**: The dataset contains approximately 20,000 newsgroup documents spread across 20 different newsgroups. It is useful for text classification tasks.\n",
        "   - **Link**: [20 Newsgroups](https://www.kaggle.com/c/20-newsgroups-classifier/data)\n",
        "\n",
        "7. **IMDb Movie Reviews**\n",
        "   - **Description**: This dataset contains 50,000 movie reviews, categorized into positive and negative reviews. It is commonly used for sentiment analysis.\n",
        "   - **Link**: [IMDb Movie Reviews](https://www.kaggle.com/lakshmi25npathi/imdb-dataset-of-50k-movie-reviews)\n",
        "\n",
        "8. **Quora Question Pairs**\n",
        "   - **Description**: This dataset consists of question pairs from Quora, labeled as duplicate (if they are the same question) or not duplicate, making it useful for semantic similarity tasks.\n",
        "   - **Link**: [Quora Question Pairs](https://www.kaggle.com/c/quora-question-pairs)\n",
        "\n",
        "### Time Series\n",
        "\n",
        "9. **UCI Electricity Load Forecasting**\n",
        "   - **Description**: This dataset features electricity consumption data, suitable for forecasting and time-series analysis tasks related to energy consumption.\n",
        "   - **Link**: [UCI Electricity Load Forecast](https://www.kaggle.com/syuryu/forecasting-electricity-loadsj)\n",
        "\n",
        "10. **Stocks Data**\n",
        "    - **Description**: This dataset includes historical price and volume data for all US stocks and ETFs. It can be used for financial market analysis and stock price prediction.\n",
        "    - **Link**: [Stocks Data](https://www.kaggle.com/borismarjanovic/price-volume-data-for-all-us-stocks-etfs)\n",
        "\n",
        "11. **Household Power Consumption**\n",
        "    - **Description**: The dataset contains measurements of electrical power consumption in one household over a period of four years. It is useful for time-series forecasting.\n",
        "    - **Link**: [Household Power Consumption](https://www.kaggle.com/uciml/electric-power-consumption-data-set)\n",
        "\n",
        "These datasets provide a range of options across different domains of machine learning. Depending on your interests, you can choose one of these datasets to explore further in your thesis. If you have specific questions about any dataset or need guidance on a particular topic, feel free to ask."
      ],
      "metadata": {
        "id": "aq6x4snxU8S8"
      },
      "id": "aq6x4snxU8S8"
    },
    {
      "cell_type": "code",
      "source": [
        "citations_text_2"
      ],
      "metadata": {
        "colab": {
          "base_uri": "https://localhost:8080/",
          "height": 35
        },
        "id": "MTKZTcZuPlnr",
        "outputId": "c616b03b-cea0-4d01-e5c6-a67bb0dd4610"
      },
      "id": "MTKZTcZuPlnr",
      "execution_count": 46,
      "outputs": [
        {
          "output_type": "execute_result",
          "data": {
            "text/plain": [
              "''"
            ],
            "application/vnd.google.colaboratory.intrinsic+json": {
              "type": "string"
            }
          },
          "metadata": {},
          "execution_count": 46
        }
      ]
    },
    {
      "cell_type": "code",
      "source": [
        "response_3 = llm_obj.response(\"What is the working title of my thesis?\")\n"
      ],
      "metadata": {
        "colab": {
          "base_uri": "https://localhost:8080/"
        },
        "id": "44Amj_AID8Iv",
        "outputId": "3f879a97-9bb6-4912-ba33-9e0b587a374b"
      },
      "id": "44Amj_AID8Iv",
      "execution_count": 47,
      "outputs": [
        {
          "output_type": "stream",
          "name": "stdout",
          "text": [
            "----------------------------------------------------------------------------------------------------\n",
            "Citations :\n",
            "\n"
          ]
        }
      ]
    },
    {
      "cell_type": "code",
      "source": [
        "response_3[0]"
      ],
      "metadata": {
        "colab": {
          "base_uri": "https://localhost:8080/",
          "height": 157
        },
        "id": "lkejFaIvL8vd",
        "outputId": "91e20e7a-7c31-453d-a68d-d6566578a14d"
      },
      "id": "lkejFaIvL8vd",
      "execution_count": 48,
      "outputs": [
        {
          "output_type": "execute_result",
          "data": {
            "text/plain": [
              "'The working title of your thesis should ideally encapsulate the core focus of your research while being concise and descriptive. Based on the datasets and topics provided, here are sample working titles for different themes:\\n\\n### Computer Vision\\n1. **\"Automated Classification of Skin Lesions Using Deep Learning\"**\\n2. **\"Facial Emotion Recognition Using Convolutional Neural Networks\"**\\n3. **\"Classification of Celestial Objects Using Astronomical Image Data\"**\\n\\n### Natural Language Processing (NLP)\\n4. **\"Detection of Fake News Using Natural Language Processing Techniques\"**\\n5. **\"Text-to-Image Synthesis Using Generative Adversarial Networks\"**\\n6. **\"Natural Language Processing for Tamil Text: Challenges and Solutions\"**\\n\\n### Time Series Analysis\\n7. **\"Predicting Cryptocurrency Prices Using Time Series Analysis and Machine Learning\"**\\n8. **\"Forecasting Sunspot Activity with Time Series Models\"**\\n9. **\"Analyzing and Predicting COVID-19 Trends in India Using Time Series Data\"**\\n10. **\"Analyzing EEG and fMRI Data for Autism Spectrum Disorder Detection\"**\\n\\nThese titles are broad enough to encompass the scope of research you are aiming to conduct but also specific enough to indicate the particular datasets and methodologies you will be using. You can further refine these titles as your research progresses and as you gain more insight into your specific area of study.'"
            ],
            "application/vnd.google.colaboratory.intrinsic+json": {
              "type": "string"
            }
          },
          "metadata": {},
          "execution_count": 48
        }
      ]
    },
    {
      "cell_type": "markdown",
      "source": [
        "Choosing a working title for your thesis depends on the specific dataset and research question you decide to pursue. Here are some example working titles for various topics and datasets:\n",
        "\n",
        "### Computer Vision\n",
        "\n",
        "1. **Intel Image Classification**\n",
        "   - **Working Title**: \"Image Classification of Natural Scenes Using Deep Learning Techniques on the Intel Image Dataset\"\n",
        "   \n",
        "2. **COVID-19 Radiography Database**\n",
        "   - **Working Title**: \"Automated Detection of COVID-19 from X-ray Images Using Convolutional Neural Networks\"\n",
        "\n",
        "3. **Plant Seedlings Classification**\n",
        "   - **Working Title**: \"Species Classification of Plant Seedlings Using Deep Learning Approaches\"\n",
        "\n",
        "4. **Street View House Numbers (SVHN)**\n",
        "   - **Working Title**: \"Digit Recognition in Natural Scene Images Using Deep Neural Networks\"\n",
        "\n",
        "### Natural Language Processing (NLP)\n",
        "\n",
        "5. **Twitter Sentiment Analysis (Sentiment140)**\n",
        "   - **Working Title**: \"Sentiment Analysis of Twitter Posts Using Natural Language Processing and Machine Learning\"\n",
        "\n",
        "6. **20 Newsgroups**\n",
        "   - **Working Title**: \"Text Classification of Newsgroup Documents Using Machine Learning Techniques\"\n",
        "\n",
        "7. **IMDb Movie Reviews**\n",
        "   - **Working Title**: \"Sentiment Analysis of Movie Reviews Using Deep Learning Approaches\"\n",
        "\n",
        "8. **Quora Question Pairs**\n",
        "   - **Working Title**: \"Semantic Similarity Detection in Quora Question Pairs Using Natural Language Processing\"\n",
        "\n",
        "### Time Series\n",
        "\n",
        "9. **UCI Electricity Load Forecasting**\n",
        "   - **Working Title**: \"Time Series Analysis and Forecasting of Electricity Load Data Using Machine Learning Models\"\n",
        "\n",
        "10. **Stocks Data**\n",
        "    - **Working Title**: \"Predictive Modeling of Stock Prices Using Time-Series Data and Machine Learning\"\n",
        "\n",
        "11. **Household Power Consumption**\n",
        "    - **Working Title**: \"Forecasting Household Electrical Power Consumption Using Time-Series Analysis Techniques\"\n",
        "\n",
        "You can refine your working title based on the specific problem statement, objectives, and methods you plan to use in your research. Once you've decided on a specific dataset and research focus, we can further tailor the title to better fit your thesis."
      ],
      "metadata": {
        "id": "-IPiOd0OVdmk"
      },
      "id": "-IPiOd0OVdmk"
    },
    {
      "cell_type": "code",
      "source": [],
      "metadata": {
        "id": "sK6DAZmbT899"
      },
      "id": "sK6DAZmbT899",
      "execution_count": 48,
      "outputs": []
    },
    {
      "cell_type": "code",
      "source": [
        "response_4 = llm_obj.response(\"Summurise the extract of my text and your recommended dataset. Also tell me reason why you have suggested me particular datasets.\")"
      ],
      "metadata": {
        "colab": {
          "base_uri": "https://localhost:8080/"
        },
        "id": "W1FgUcjTL_KJ",
        "outputId": "eb2fe633-c4a4-4c10-816a-31879ec87215"
      },
      "id": "W1FgUcjTL_KJ",
      "execution_count": 49,
      "outputs": [
        {
          "output_type": "stream",
          "name": "stdout",
          "text": [
            "----------------------------------------------------------------------------------------------------\n",
            "Citations :\n",
            "\n"
          ]
        }
      ]
    },
    {
      "cell_type": "code",
      "source": [
        "response_4[0]"
      ],
      "metadata": {
        "colab": {
          "base_uri": "https://localhost:8080/",
          "height": 157
        },
        "id": "X_EUC1CQMrNh",
        "outputId": "f4cafbaa-e203-442c-e9ea-ca1310580d76"
      },
      "id": "X_EUC1CQMrNh",
      "execution_count": 50,
      "outputs": [
        {
          "output_type": "execute_result",
          "data": {
            "text/plain": [
              "\"### Summary of Your Text\\nYou, Saddam Rafiq, a student of Deep Learning, have expressed gratitude for the unique and meaningful teaching methods experienced in your course. You are requesting the possibility of working on your master's thesis under the supervision of the instructor, seeking guidance and support to perform well in your thesis.\\n\\n### Recommended Datasets and Reasons\\nHere are the recommended datasets along with the reasons for their suggestion:\\n\\n#### 1. Skin Lesions Classification Dataset\\n**Reason:** This dataset provides a substantial number of images for training models in medical image classification, a relevant and impactful area in healthcare. Given your deep learning background, applying CNNs or other advanced models to classify skin lesions can significantly contribute to dermatological diagnostics.\\n\\n#### 2. Facial Emotion Recognition Image Dataset\\n**Reason:** Emotion recognition from facial images is a classic deep learning problem with numerous applications in human-computer interaction and psychology. Working with this dataset will let you explore various neural network architectures, enhancing your understanding and skills in computer vision.\\n\\n#### 3. Astronomy Image Classification Dataset\\n**Reason:** This dataset allows exploration into astronomical image classification, appealing to those interested in astrophysics. It's a great way to apply deep learning techniques to classify and analyze images of celestial objects, which can contribute to space research.\\n\\n#### 4. Fake News Detection Dataset_English\\n**Reason:** Detecting fake news is a pressing issue in today's information age. This dataset provides ample text data for building and evaluating NLP models to differentiate between real and fake news, making it highly relevant and socially impactful.\\n\\n#### 5. Midjourney User Prompts & Generated Images (250k)\\n**Reason:** This dataset is perfect for students interested in the intersection of NLP and CV, specifically in text-to-image synthesis using GANs. It provides a rich source of data for developing models that generate images from textual descriptions.\\n\\n#### 6. Tamil NLP\\n**Reason:** Working with regional languages presents unique challenges and opportunities in NLP. This dataset is ideal for developing localization models and contributing to linguistic diversity in technology.\\n\\n#### 7. Cryptocurrency Historical Prices\\n**Reason:** Cryptocurrency markets are highly dynamic and predicting their prices is a challenging but rewarding time series problem. This dataset allows the application of various forecasting and deep learning techniques, valuable in financial technology.\\n\\n#### 8. Daily Sun Spot Data (1818 to 2019)\\n**Reason:** This historical dataset provides a long time series for sunspot activity, which is useful for studying solar dynamics and climate science. It allows for the application of time series forecasting models over a very extended period.\\n\\n#### 9. COVID-19 in India\\n**Reason:** Analyzing and predicting pandemic trends are highly relevant in today’s world. This dataset gives practical insight into epidemiology and public health analytics, useful for developing models to forecast disease spread and impact.\\n\\n#### 10. EEG and fMRI data of ASD and TD\\n**Reason:** Analyzing EEG and fMRI data is crucial for neurological research, especially for detecting conditions like Autism Spectrum Disorder (ASD). This dataset supports research in medical imaging and time series, offering valuable insights into brain activities.\\n\\n### Conclusion\\nThese datasets were suggested based on their relevance, impact, and the opportunity they provide to apply deep learning techniques within your areas of interest. They span various applications in computer vision, NLP, and time series analysis, ensuring that your thesis can contribute meaningfully to both academia and industry.\""
            ],
            "application/vnd.google.colaboratory.intrinsic+json": {
              "type": "string"
            }
          },
          "metadata": {},
          "execution_count": 50
        }
      ]
    },
    {
      "cell_type": "markdown",
      "source": [
        "### Summary of Your Text\n",
        "You, Saddam Rafiq, are expressing your interest in working on your master's thesis under the supervision of your Deep Learning instructor. You mention that your learning experience in the course has been helpful and effective, and you are eager to perform well in your thesis with the instructor's guidance. You are seeking recommendations for potential thesis topics and datasets to work with.\n",
        "\n",
        "### Recommended Datasets and Reasons\n",
        "The suggested datasets are grouped by three main topics: computer vision, natural language processing (NLP), and time series. Here's a summary of the recommended datasets and the reasons for their selection:\n",
        "\n",
        "#### Computer Vision\n",
        "1. **Intel Image Classification**\n",
        "   - **Description**: Dataset containing images of six natural scene categories.\n",
        "   - **Reason**: Excellent for exploring image classification techniques using deep neural networks.\n",
        "\n",
        "2. **COVID-19 Radiography Database**\n",
        "   - **Description**: Contains X-ray images for the detection of COVID-19.\n",
        "   - **Reason**: Timely and impactful research topic, suitable for medical imaging and healthcare applications.\n",
        "\n",
        "3. **Plant Seedlings Classification**\n",
        "   - **Description**: Images of different plant species at various growth stages.\n",
        "   - **Reason**: Relevant for agricultural applications and species classification.\n",
        "\n",
        "4. **Street View House Numbers (SVHN)**\n",
        "   - **Description**: Cropped images of digits from street views.\n",
        "   - **Reason**: Popular benchmark dataset for digit recognition in natural images, good for OCR (Optical Character Recognition) tasks.\n",
        "\n",
        "#### Natural Language Processing (NLP)\n",
        "5. **Twitter Sentiment Analysis (Sentiment140)**\n",
        "   - **Description**: Dataset of tweets labeled for sentiment analysis.\n",
        "   - **Reason**: Ideal for sentiment analysis and opinion mining in social media data.\n",
        "\n",
        "6. **20 Newsgroups**\n",
        "   - **Description**: Documents from 20 different newsgroups.\n",
        "   - **Reason**: Classic dataset for text classification and clustering tasks.\n",
        "\n",
        "7. **IMDb Movie Reviews**\n",
        "   - **Description**: Movie reviews labeled as positive or negative.\n",
        "   - **Reason**: Widely used for sentiment analysis tasks in textual data.\n",
        "\n",
        "8. **Quora Question Pairs**\n",
        "   - **Description**: Pairs of questions labeled as duplicate or not.\n",
        "   - **Reason**: Suitable for tasks involving semantic similarity and question answering.\n",
        "\n",
        "#### Time Series\n",
        "9. **UCI Electricity Load Forecasting**\n",
        "   - **Description**: Electricity consumption data for forecasting.\n",
        "   - **Reason**: Relevant for energy management and load forecasting applications.\n",
        "\n",
        "10. **Stocks Data**\n",
        "    - **Description**: Historical stock price and volume data.\n",
        "    - **Reason**: Useful for financial analysis and predictive modeling in stock markets.\n",
        "\n",
        "11. **Household Power Consumption**\n",
        "    - **Description**: Electrical power consumption measurements in a household.\n",
        "    - **Reason**: Practical application in energy consumption forecasting and smart home management.\n",
        "\n",
        "### Reason for Dataset Suggestions\n",
        "- **Variety of Applications**: These datasets span across key areas such as healthcare, agriculture, finance, and energy, providing you with the option to choose a topic that interests you the most.\n",
        "- **Strong Real-World Relevance**: Each dataset corresponds to real-world problems, ensuring that your research has practical implications and social impact.\n",
        "- **Popularity and Benchmarking**: Many of these datasets are popular and well-benchmarked, offering a good foundation and comparison for your results.\n",
        "- **Diverse Techniques**: These datasets allow for the exploration of diverse machine learning techniques, including deep learning for image and text data, and time-series analysis for forecasting.\n",
        "\n",
        "These reasons collectively aim to provide a robust and impactful start to your master's thesis, facilitating meaningful research and potential contributions to the field."
      ],
      "metadata": {
        "id": "KCTDta-5Vh0B"
      },
      "id": "KCTDta-5Vh0B"
    },
    {
      "cell_type": "code",
      "source": [
        "response_5 = llm_obj.response(\"Can you please tell me the sources of your recommendations ? Is there any file from which you have got this information about datasets ?\")"
      ],
      "metadata": {
        "colab": {
          "base_uri": "https://localhost:8080/"
        },
        "id": "75xPUqomMxPm",
        "outputId": "b769d722-9749-4537-8c22-db15824c0678"
      },
      "id": "75xPUqomMxPm",
      "execution_count": 51,
      "outputs": [
        {
          "output_type": "stream",
          "name": "stdout",
          "text": [
            "----------------------------------------------------------------------------------------------------\n",
            "Citations :\n",
            "[0] knowlege_base_kaggle_datasets.pdf\n",
            "[1] knowlege_base_kaggle_datasets.pdf\n",
            "[2] knowlege_base_kaggle_datasets.pdf\n",
            "[3] knowlege_base_kaggle_datasets.pdf\n",
            "[4] knowlege_base_kaggle_datasets.pdf\n",
            "[5] knowlege_base_kaggle_datasets.pdf\n",
            "[6] knowlege_base_kaggle_datasets.pdf\n",
            "[7] knowlege_base_kaggle_datasets.pdf\n"
          ]
        }
      ]
    },
    {
      "cell_type": "code",
      "source": [
        "response_5[0]"
      ],
      "metadata": {
        "colab": {
          "base_uri": "https://localhost:8080/",
          "height": 157
        },
        "id": "WxqZt2JDNB_8",
        "outputId": "510128dc-154c-48e9-f335-bc5b615f3f24"
      },
      "id": "WxqZt2JDNB_8",
      "execution_count": 52,
      "outputs": [
        {
          "output_type": "execute_result",
          "data": {
            "text/plain": [
              "'The recommendations provided for these datasets were based on the descriptions and links to the datasets available on Kaggle. Specific Kaggle links and dataset information were derived from the references obtained from your provided document.\\n\\nHere is the summary of sources and how the information was extracted:\\n\\n1. **Skin Lesions Classification Dataset**\\n   - **Source:** Kaggle [Link](https://www.kaggle.com/datasets/ahmedxc4/skin-ds)\\n   - **File Reference:** [0]\\n\\n2. **Facial Emotion Recognition Image Dataset**\\n   - **Source:** Kaggle [Link](https://www.kaggle.com/datasets/sujaykapadnis/emotion-recognition-dataset)\\n\\n3. **Astronomy Image Classification Dataset**\\n   - **Source:** Kaggle [Link](https://www.kaggle.com/datasets/abhikalpsrivastava15/space-images-category)\\n   - **File Reference:** [1]\\n\\n4. **Fake News Detection Dataset_English**\\n   - **Source:** Kaggle [Link](https://www.kaggle.com/datasets/sadikaljarif/fake-news-detection-dataset-english)\\n   - **File Reference:** [2]\\n\\n5. **Midjourney User Prompts & Generated Images (250k)**\\n   - **Source:** Kaggle [Link](https://www.kaggle.com/datasets/succinctlyai/midjourney-texttoimage)\\n   - **File Reference:** [0]\\n\\n6. **Tamil NLP**\\n   - **Source:** Kaggle [Link](https://www.kaggle.com/datasets/sudalairajkumar/tamil-nlp)\\n   - **File Reference:** [1]\\n\\n7. **Cryptocurrency Historical Prices**\\n   - **Source:** Kaggle [Link](https://www.kaggle.com/datasets/sudalairajkumar/cryptocurrencypricehistory)\\n   - **File Reference:** [0]\\n\\n8. **Daily Sun Spot Data (1818 to 2019)**\\n   - **Source:** Kaggle [Link](https://www.kaggle.com/datasets/abhinand05/daily-sun-spot-data-1818-to-2019)\\n   - **File Reference:** [1]\\n\\n9. **COVID-19 in India**\\n   - **Source:** Kaggle [Link](https://www.kaggle.com/datasets/sudalairajkumar/covid19-in-india)\\n   - **File Reference:** [7]\\n\\n10. **EEG and fMRI data of ASD and TD**\\n    - **Source:** Kaggle [Link](https://www.kaggle.com/datasets/abdurrasoolphd/eeg-and-fmri-data-of-asd-and-td)\\n\\nThese recommendations were based on the extracted data from your text and available dataset information. Any further detailed content and additional features of these datasets should be directly explored through the linked Kaggle pages.'"
            ],
            "application/vnd.google.colaboratory.intrinsic+json": {
              "type": "string"
            }
          },
          "metadata": {},
          "execution_count": 52
        }
      ]
    },
    {
      "cell_type": "markdown",
      "source": [
        "The information about the datasets and recommendations provided earlier is sourced from publicly accessible data repositories, specifically from Kaggle, a well-known platform for datasets and data science competitions.\n",
        "\n",
        "### Sources of Dataset Information\n",
        "1. **Intel Image Classification**\n",
        "   - **Source**: [Intel Image Classification on Kaggle](https://www.kaggle.com/puneet6060/intel-image-classification)\n",
        "\n",
        "2. **COVID-19 Radiography Database**\n",
        "   - **Source**: [COVID-19 Radiography Database on Kaggle](https://www.kaggle.com/tawsifurrahman/covid19-radiography-database)\n",
        "\n",
        "3. **Plant Seedlings Classification**\n",
        "   - **Source**: [Plant Seedlings Classification on Kaggle](https://www.kaggle.com/c/plant-seedlings-classification)\n",
        "\n",
        "4. **Street View House Numbers (SVHN)**\n",
        "   - **Source**: [Street View House Numbers on Kaggle](https://www.kaggle.com/competitions/svhn-cropped)\n",
        "\n",
        "5. **Twitter Sentiment Analysis (Sentiment140)**\n",
        "   - **Source**: [Twitter Sentiment Analysis on Kaggle](https://www.kaggle.com/kazanova/sentiment140)\n",
        "\n",
        "6. **20 Newsgroups**\n",
        "   - **Source**: [20 Newsgroups on Kaggle](https://www.kaggle.com/c/20-newsgroups-classifier/data)\n",
        "\n",
        "7. **IMDb Movie Reviews**\n",
        "   - **Source**: [IMDb Movie Reviews on Kaggle](https://www.kaggle.com/lakshmi25npathi/imdb-dataset-of-50k-movie-reviews)\n",
        "\n",
        "8. **Quora Question Pairs**\n",
        "   - **Source**: [Quora Question Pairs on Kaggle](https://www.kaggle.com/c/quora-question-pairs)\n",
        "\n",
        "9. **UCI Electricity Load Forecasting**\n",
        "   - **Source**: [UCI Electricity Load Forecasting on Kaggle](https://www.kaggle.com/syuryu/forecasting-electricity-loadsj)\n",
        "\n",
        "10. **Stocks Data**\n",
        "    - **Source**: [Stocks Data on Kaggle](https://www.kaggle.com/borismarjanovic/price-volume-data-for-all-us-stocks-etfs)\n",
        "\n",
        "11. **Household Power Consumption**\n",
        "    - **Source**: [Household Power Consumption on Kaggle](https://www.kaggle.com/uciml/electric-power-consumption-data-set)\n",
        "\n",
        "No specific file from the uploaded documents was used to gather this dataset information; instead, it was based on my understanding of publicly available resources on the Kaggle platform, a common repository for data scientists and learners for accessing quality datasets for various domains of machine learning."
      ],
      "metadata": {
        "id": "OpRQffHGVo0a"
      },
      "id": "OpRQffHGVo0a"
    },
    {
      "cell_type": "code",
      "source": [
        "response_6 = llm_obj.response(\"Which document you have used to take this data from ? What is the context file here ?\")"
      ],
      "metadata": {
        "colab": {
          "base_uri": "https://localhost:8080/"
        },
        "id": "ODJHA-soNUVN",
        "outputId": "2a477dbc-4958-47c5-cc47-1d6b875a26f0"
      },
      "id": "ODJHA-soNUVN",
      "execution_count": 53,
      "outputs": [
        {
          "output_type": "stream",
          "name": "stdout",
          "text": [
            "----------------------------------------------------------------------------------------------------\n",
            "Citations :\n",
            "[0] knowlege_base_kaggle_datasets.pdf\n",
            "[1] knowlege_base_kaggle_datasets.pdf\n",
            "[2] knowlege_base_kaggle_datasets.pdf\n",
            "[3] knowlege_base_kaggle_datasets.pdf\n",
            "[4] knowlege_base_kaggle_datasets.pdf\n",
            "[5] knowlege_base_kaggle_datasets.pdf\n",
            "[6] knowlege_base_kaggle_datasets.pdf\n",
            "[7] knowlege_base_kaggle_datasets.pdf\n"
          ]
        }
      ]
    },
    {
      "cell_type": "code",
      "source": [
        "response_6[0]"
      ],
      "metadata": {
        "colab": {
          "base_uri": "https://localhost:8080/",
          "height": 157
        },
        "id": "5js7pspIWDXY",
        "outputId": "88b6115a-16e7-47af-fdc2-0fe401d323d4"
      },
      "id": "5js7pspIWDXY",
      "execution_count": 54,
      "outputs": [
        {
          "output_type": "execute_result",
          "data": {
            "text/plain": [
              "'The dataset information and recommendations were formulated based on the user-uploaded document and referred sources from the extract of the document. The user-uploaded document provided descriptive references and links to datasets available on Kaggle. The context file here is implicitly the document Saddam Rafiq uploaded and includes relevant dataset information. The exact nature of the context file involves extracts providing Kaggle dataset links and descriptions.\\n\\nBased on the search results and your text, I used the following references extracted from the context file:\\n\\n- **Skin Lesions Classification Dataset** - Kaggle [Link](https://www.kaggle.com/datasets/ahmedxc4/skin-ds)[0]\\n- **Astronomy Image Classification Dataset** - Kaggle [Link](https://www.kaggle.com/datasets/abhikalpsrivastava15/space-images-category)[1]\\n- **Fake News Detection Dataset_English** - Kaggle [Link](https://www.kaggle.com/datasets/sadikaljarif/fake-news-detection-dataset-english)[2]\\n- **Midjourney User Prompts & Generated Images (250k)** - Kaggle [Link](https://www.kaggle.com/datasets/succinctlyai/midjourney-texttoimage)[0]\\n- **Tamil NLP** - Kaggle [Link](https://www.kaggle.com/datasets/sudalairajkumar/tamil-nlp)[1]\\n- **Cryptocurrency Historical Prices** - Kaggle [Link](https://www.kaggle.com/datasets/sudalairajkumar/cryptocurrencypricehistory)[0]\\n- **Daily Sun Spot Data (1818 to 2019)** - Kaggle [Link](https://www.kaggle.com/datasets/abhinand05/daily-sun-spot-data-1818-to-2019)[1]\\n- **COVID-19 in India** - Kaggle [Link](https://www.kaggle.com/datasets/sudalairajkumar/covid19-in-india)[7]\\n\\nIf you still need more information from the document or additional clarifications, you can share specific queries or indicate which portions need more detailed exploration.'"
            ],
            "application/vnd.google.colaboratory.intrinsic+json": {
              "type": "string"
            }
          },
          "metadata": {},
          "execution_count": 54
        }
      ]
    },
    {
      "cell_type": "code",
      "source": [
        "response_6[1]"
      ],
      "metadata": {
        "colab": {
          "base_uri": "https://localhost:8080/",
          "height": 70
        },
        "id": "gzMHFYUqNlWi",
        "outputId": "ff89c7d7-f5a9-46cb-fc58-832c023f35ce"
      },
      "id": "gzMHFYUqNlWi",
      "execution_count": 55,
      "outputs": [
        {
          "output_type": "execute_result",
          "data": {
            "text/plain": [
              "'[0] knowlege_base_kaggle_datasets.pdf\\n[1] knowlege_base_kaggle_datasets.pdf\\n[2] knowlege_base_kaggle_datasets.pdf\\n[3] knowlege_base_kaggle_datasets.pdf\\n[4] knowlege_base_kaggle_datasets.pdf\\n[5] knowlege_base_kaggle_datasets.pdf\\n[6] knowlege_base_kaggle_datasets.pdf\\n[7] knowlege_base_kaggle_datasets.pdf'"
            ],
            "application/vnd.google.colaboratory.intrinsic+json": {
              "type": "string"
            }
          },
          "metadata": {},
          "execution_count": 55
        }
      ]
    },
    {
      "cell_type": "markdown",
      "source": [
        "[0] knowlege_base_kaggle_datasets.pdf\n",
        "[1] knowlege_base_kaggle_datasets.pdf\n",
        "[2] knowlege_base_kaggle_datasets.pdf\n",
        "[3] knowlege_base_kaggle_datasets.pdf\n",
        "[4] knowlege_base_kaggle_datasets.pdf\n",
        "[5] knowlege_base_kaggle_datasets.pdf\n",
        "[6] knowlege_base_kaggle_datasets.pdf\n",
        "[7] knowlege_base_kaggle_datasets.pdf\n",
        "[8] knowlege_base_kaggle_datasets.pdf\n",
        "[9] knowlege_base_kaggle_datasets.pdf\n",
        "[10] knowlege_base_kaggle_datasets.pdf"
      ],
      "metadata": {
        "id": "ckEItA_wV_8j"
      },
      "id": "ckEItA_wV_8j"
    },
    {
      "cell_type": "markdown",
      "source": [
        "## CASE 2: WITH STREAMING"
      ],
      "metadata": {
        "id": "8M_KeonZScjc"
      },
      "id": "8M_KeonZScjc"
    },
    {
      "cell_type": "code",
      "source": [
        "instructions = \"\"\"\n",
        "Project Exposé must be in computer science, machine learning, and artificial intelligence in general. Students might not give a precise description and ideas. They just want to have any proposed topics with datasets.\n",
        "        Your tasks are as follows:\n",
        "        1. You should provide at least 10 different datasets on computer vision, natural language processing, or time series.\n",
        "        2. You should display results in a table for easy viewing.\n",
        "        3. You should group datasets by topic.\n",
        "        4. The response should have the Kaggle Datasets link.\n",
        "\n",
        "        You identify the input language and give the response in the same language, However, you should provide the dataset's information in English.\n",
        "\"\"\""
      ],
      "metadata": {
        "id": "ltXD0I9XTKBF"
      },
      "id": "ltXD0I9XTKBF",
      "execution_count": 56,
      "outputs": []
    },
    {
      "cell_type": "code",
      "source": [
        "query =\"\"\"\n",
        "\n",
        "My name is Akashdeep Singh and I am a student of MS in Data Science.I am currently working on my thesis proposal. In my thesis, I would like to explore Improvement in process optimization through application of data analytics: A case of Amazon. As this topic falls within your field of expertise, I was wondering if you’d bewilling to supervise my thesis.I attached my draft thesis proposal to this email. Please let me know if you have any questions about the topic or process.I am looking forward to hearing from you.\n",
        "\"\"\""
      ],
      "metadata": {
        "id": "5sj-lRDFSpED"
      },
      "id": "5sj-lRDFSpED",
      "execution_count": 57,
      "outputs": []
    },
    {
      "cell_type": "code",
      "source": [
        "llm_obj_2 = LLMChatBot()\n",
        "llm_obj_2.creation_of_assistant(instructions)\n",
        "llm_obj_2.creation_of_vector_store(\"knowlege_base_kaggle_datasets.pdf\")\n",
        "llm_obj_2.creation_of_thread()\n",
        "llm_obj_2.updating_assistant()"
      ],
      "metadata": {
        "id": "CAOibiCBTNHw"
      },
      "id": "CAOibiCBTNHw",
      "execution_count": 58,
      "outputs": []
    },
    {
      "cell_type": "code",
      "source": [
        "response_11 = llm_obj_2.response(query, streaming = True)"
      ],
      "metadata": {
        "colab": {
          "base_uri": "https://localhost:8080/"
        },
        "id": "ctKci2OuSewR",
        "outputId": "c3d180cb-a9d0-4b24-ffad-db429b6846de"
      },
      "id": "ctKci2OuSewR",
      "execution_count": 59,
      "outputs": [
        {
          "output_type": "stream",
          "name": "stdout",
          "text": [
            "\n",
            "assistant > file_search\n",
            "\n",
            "\n",
            "assistant > Here are a few Kaggle datasets that might be relevant for your thesis on \"Improvement in process optimization through the application of data analytics: A case of Amazon\":\n",
            "\n",
            "1. **Amazon Business Research Analyst Dataset**:\n",
            "   - Cleaned dataset for the Amazon Business Research Analyst Hiring Challenge.\n",
            "   - Size: 781KB.\n",
            "   - [Dataset Link](https://www.kaggle.com/datasets/vikramxd/amazon-business-research-analyst-dataset)[0].\n",
            "\n",
            "2. **Amazon US Customer Reviews Dataset**:\n",
            "   - Customer review text with accompanying metadata.\n",
            "   - Size: 21GB.\n",
            "   - [Dataset Link](https://www.kaggle.com/datasets/cynthiarempel/amazon-us-customer-reviews-dataset)[1].\n",
            "\n",
            "3. **Amazon Top 100 Best Sellers in Electronics 2021**:\n",
            "   - Daily data on the top 100 most popular products based on sales.\n",
            "   - Size: 236KB.\n",
            "   - [Dataset Link](https://www.kaggle.com/datasets/annpastushko/amazon-top-100-best-sellers-in-electronics-2021)[2].\n",
            "\n",
            "These datasets cover various aspects of Amazon's business, including sales, customer reviews, and product popularity, and can be useful for process optimization analysis.\n",
            "----------------------------------------------------------------------------------------------------\n",
            "Citations :\n",
            "[0] knowlege_base_kaggle_datasets.pdf\n",
            "[1] knowlege_base_kaggle_datasets.pdf\n",
            "[2] knowlege_base_kaggle_datasets.pdf\n"
          ]
        }
      ]
    },
    {
      "cell_type": "code",
      "source": [
        "response_12 = llm_obj_2.response(\"What is the context document from which you have provided me this data ?\", streaming = True)"
      ],
      "metadata": {
        "colab": {
          "base_uri": "https://localhost:8080/"
        },
        "id": "4cv7MuyIS0-Z",
        "outputId": "db89378f-9df9-4247-f06e-355cb112b2f7"
      },
      "id": "4cv7MuyIS0-Z",
      "execution_count": 60,
      "outputs": [
        {
          "output_type": "stream",
          "name": "stdout",
          "text": [
            "\n",
            "assistant > The data provided is derived from the thesis proposal document you have uploaded. The excerpt focuses on improving process optimization through the application of data analytics, specifically using Amazon as a case study. If you have any specific sections or queries regarding your proposal, please let me know!\n",
            "----------------------------------------------------------------------------------------------------\n",
            "Citations :\n",
            "\n"
          ]
        }
      ]
    },
    {
      "cell_type": "code",
      "source": [],
      "metadata": {
        "id": "-xTaR_azWSb2"
      },
      "id": "-xTaR_azWSb2",
      "execution_count": 60,
      "outputs": []
    }
  ],
  "metadata": {
    "kernelspec": {
      "display_name": "Python 3 (ipykernel)",
      "language": "python",
      "name": "python3"
    },
    "language_info": {
      "codemirror_mode": {
        "name": "ipython",
        "version": 3
      },
      "file_extension": ".py",
      "mimetype": "text/x-python",
      "name": "python",
      "nbconvert_exporter": "python",
      "pygments_lexer": "ipython3",
      "version": "3.8.8rc1"
    },
    "colab": {
      "provenance": [],
      "include_colab_link": true
    }
  },
  "nbformat": 4,
  "nbformat_minor": 5
}