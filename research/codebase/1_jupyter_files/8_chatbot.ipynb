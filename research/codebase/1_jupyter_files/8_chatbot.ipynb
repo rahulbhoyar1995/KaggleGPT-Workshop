{
  "cells": [
    {
      "cell_type": "markdown",
      "metadata": {
        "id": "view-in-github",
        "colab_type": "text"
      },
      "source": [
        "<a href=\"https://colab.research.google.com/github/rahulbhoyar1995/KaggleGPT-Research/blob/main/research/codebase/1_jupyter_files/8_chatbot.ipynb\" target=\"_parent\"><img src=\"https://colab.research.google.com/assets/colab-badge.svg\" alt=\"Open In Colab\"/></a>"
      ]
    },
    {
      "cell_type": "code",
      "source": [
        "pip install python-dotenv"
      ],
      "metadata": {
        "id": "8P2_7CW5bBU0",
        "outputId": "ac69210e-aba9-409f-de04-695a65880508",
        "colab": {
          "base_uri": "https://localhost:8080/"
        }
      },
      "id": "8P2_7CW5bBU0",
      "execution_count": 1,
      "outputs": [
        {
          "output_type": "stream",
          "name": "stdout",
          "text": [
            "Requirement already satisfied: python-dotenv in /usr/local/lib/python3.10/dist-packages (1.0.1)\n"
          ]
        }
      ]
    },
    {
      "cell_type": "code",
      "source": [
        "!ls -a"
      ],
      "metadata": {
        "id": "Kjd7kbkNcEMt",
        "outputId": "16cbb5c8-13b7-44d8-c8f5-1fc8a6b3e180",
        "colab": {
          "base_uri": "https://localhost:8080/"
        }
      },
      "id": "Kjd7kbkNcEMt",
      "execution_count": 2,
      "outputs": [
        {
          "output_type": "stream",
          "name": "stdout",
          "text": [
            ".  ..  .config\t.env  .ipynb_checkpoints  knowlege_base_kaggle_datasets.pdf  sample_data\n"
          ]
        }
      ]
    },
    {
      "cell_type": "code",
      "source": [
        "from dotenv import load_dotenv"
      ],
      "metadata": {
        "id": "Frlb6PNBa87M"
      },
      "id": "Frlb6PNBa87M",
      "execution_count": 3,
      "outputs": []
    },
    {
      "cell_type": "code",
      "execution_count": 4,
      "id": "7605d391-4011-40f4-a0e0-aee5678eff92",
      "metadata": {
        "id": "7605d391-4011-40f4-a0e0-aee5678eff92",
        "outputId": "22ede369-3cc4-475b-b833-fc6a6da99fc3",
        "colab": {
          "base_uri": "https://localhost:8080/"
        }
      },
      "outputs": [
        {
          "output_type": "execute_result",
          "data": {
            "text/plain": [
              "True"
            ]
          },
          "metadata": {},
          "execution_count": 4
        }
      ],
      "source": [
        "load_dotenv()"
      ]
    },
    {
      "cell_type": "code",
      "source": [
        "pip install openai"
      ],
      "metadata": {
        "id": "G9Hq79shcJlm",
        "outputId": "52a51b2f-5699-4ae8-99e4-84ad7fcd7ed1",
        "colab": {
          "base_uri": "https://localhost:8080/"
        }
      },
      "id": "G9Hq79shcJlm",
      "execution_count": 5,
      "outputs": [
        {
          "output_type": "stream",
          "name": "stdout",
          "text": [
            "Requirement already satisfied: openai in /usr/local/lib/python3.10/dist-packages (1.30.1)\n",
            "Requirement already satisfied: anyio<5,>=3.5.0 in /usr/local/lib/python3.10/dist-packages (from openai) (3.7.1)\n",
            "Requirement already satisfied: distro<2,>=1.7.0 in /usr/lib/python3/dist-packages (from openai) (1.7.0)\n",
            "Requirement already satisfied: httpx<1,>=0.23.0 in /usr/local/lib/python3.10/dist-packages (from openai) (0.27.0)\n",
            "Requirement already satisfied: pydantic<3,>=1.9.0 in /usr/local/lib/python3.10/dist-packages (from openai) (2.7.1)\n",
            "Requirement already satisfied: sniffio in /usr/local/lib/python3.10/dist-packages (from openai) (1.3.1)\n",
            "Requirement already satisfied: tqdm>4 in /usr/local/lib/python3.10/dist-packages (from openai) (4.66.4)\n",
            "Requirement already satisfied: typing-extensions<5,>=4.7 in /usr/local/lib/python3.10/dist-packages (from openai) (4.11.0)\n",
            "Requirement already satisfied: idna>=2.8 in /usr/local/lib/python3.10/dist-packages (from anyio<5,>=3.5.0->openai) (3.7)\n",
            "Requirement already satisfied: exceptiongroup in /usr/local/lib/python3.10/dist-packages (from anyio<5,>=3.5.0->openai) (1.2.1)\n",
            "Requirement already satisfied: certifi in /usr/local/lib/python3.10/dist-packages (from httpx<1,>=0.23.0->openai) (2024.2.2)\n",
            "Requirement already satisfied: httpcore==1.* in /usr/local/lib/python3.10/dist-packages (from httpx<1,>=0.23.0->openai) (1.0.5)\n",
            "Requirement already satisfied: h11<0.15,>=0.13 in /usr/local/lib/python3.10/dist-packages (from httpcore==1.*->httpx<1,>=0.23.0->openai) (0.14.0)\n",
            "Requirement already satisfied: annotated-types>=0.4.0 in /usr/local/lib/python3.10/dist-packages (from pydantic<3,>=1.9.0->openai) (0.6.0)\n",
            "Requirement already satisfied: pydantic-core==2.18.2 in /usr/local/lib/python3.10/dist-packages (from pydantic<3,>=1.9.0->openai) (2.18.2)\n"
          ]
        }
      ]
    },
    {
      "cell_type": "code",
      "source": [
        "from typing_extensions import override\n",
        "from openai import AssistantEventHandler, OpenAI\n",
        "\n",
        "client = OpenAI()\n",
        "\n",
        "class EventHandler(AssistantEventHandler):\n",
        "    @override\n",
        "    def on_text_created(self, text) -> None:\n",
        "        print(f\"\\nassistant > \", end=\"\", flush=True)\n",
        "\n",
        "    @override\n",
        "    def on_tool_call_created(self, tool_call):\n",
        "        print(f\"\\nassistant > {tool_call.type}\\n\", flush=True)\n",
        "\n",
        "    @override\n",
        "    def on_message_done(self, message) -> None:\n",
        "        # print a citation to the file searched\n",
        "        message_content = message.content[0].text\n",
        "        annotations = message_content.annotations\n",
        "        citations = []\n",
        "        for index, annotation in enumerate(annotations):\n",
        "            message_content.value = message_content.value.replace(\n",
        "                annotation.text, f\"[{index}]\"\n",
        "            )\n",
        "            if file_citation := getattr(annotation, \"file_citation\", None):\n",
        "                cited_file = client.files.retrieve(file_citation.file_id)\n",
        "                citations.append(f\"[{index}] {cited_file.filename}\")\n",
        "\n",
        "        print(message_content.value)\n",
        "        print(\"-\"*100)\n",
        "        print(\"Citations :\")\n",
        "        print(\"\\n\".join(citations))\n"
      ],
      "metadata": {
        "id": "JKhIAroQvcx3"
      },
      "id": "JKhIAroQvcx3",
      "execution_count": 6,
      "outputs": []
    },
    {
      "cell_type": "code",
      "source": [
        "from openai import OpenAI\n",
        "\n",
        "\n",
        "class LLMChatBot:\n",
        "  def __init__(self):\n",
        "      self.client = OpenAI()\n",
        "      self.assistant = None\n",
        "      self.vector_store = None\n",
        "      self.thread = None\n",
        "      self.run = None\n",
        "\n",
        "  def creation_of_assistant(self,instructions_text):\n",
        "      self.assistant = self.client.beta.assistants.create(\n",
        "      name=\"Kaggle Based Recommendation System\",\n",
        "      instructions=instructions_text,\n",
        "      model=\"gpt-4o\",\n",
        "      tools=[{\"type\": \"file_search\"}],)\n",
        "\n",
        "\n",
        "  def creation_of_vector_store(self,pdf_file_path):\n",
        "      self.vector_store = self.client.beta.vector_stores.create(name=\"Financial Statements\")\n",
        "      # Ready the files for upload to OpenAI\n",
        "      file_paths = [pdf_file_path] # You can add multiple files here\n",
        "      file_streams = [open(path, \"rb\") for path in file_paths]\n",
        "\n",
        "      # Use the upload and poll SDK helper to upload the files, add them to the vector store,\n",
        "      # and poll the status of the file batch for completion.\n",
        "      file_batch = self.client.beta.vector_stores.file_batches.upload_and_poll(vector_store_id=self.vector_store.id, files=file_streams)\n",
        "\n",
        "\n",
        "  def updating_assistant(self):\n",
        "      self.assistant = self.client.beta.assistants.update(\n",
        "      assistant_id = self.assistant.id,\n",
        "      tool_resources={\"file_search\": {\"vector_store_ids\": [self.vector_store.id]}},)\n",
        "\n",
        "\n",
        "  def creation_of_thread(self):\n",
        "      self.thread = self.client.beta.threads.create()\n",
        "\n",
        "\n",
        "  def response(self,query, streaming = False):\n",
        "      message = self.client.beta.threads.messages.create(\n",
        "      thread_id=self.thread.id,\n",
        "      role=\"user\",\n",
        "      content=query)\n",
        "\n",
        "      if not streaming:\n",
        "          # Without streaming\n",
        "          run = client.beta.threads.runs.create_and_poll(thread_id= self.thread.id, assistant_id= self.assistant.id)\n",
        "          messages = list(client.beta.threads.messages.list(thread_id=self.thread.id, run_id=run.id))\n",
        "\n",
        "          message_content = messages[0].content[0].text\n",
        "          annotations = message_content.annotations\n",
        "          citations = []\n",
        "          for index, annotation in enumerate(annotations):\n",
        "              message_content.value = message_content.value.replace(annotation.text, f\"[{index}]\")\n",
        "              if file_citation := getattr(annotation, \"file_citation\", None):\n",
        "                  cited_file = client.files.retrieve(file_citation.file_id)\n",
        "                  citations.append(f\"[{index}] {cited_file.filename}\")\n",
        "\n",
        "          #print(message_content.value)\n",
        "          print(\"-\"*100)\n",
        "          print(\"Citations :\")\n",
        "          print(\"\\n\".join(citations))\n",
        "          citations_text = \"\\n\".join(citations)\n",
        "          return message_content.value , citations_text\n",
        "\n",
        "\n",
        "      #With streaming\n",
        "      with self.client.beta.threads.runs.stream(\n",
        "          thread_id= self.thread.id,\n",
        "          assistant_id= self.assistant.id,\n",
        "          instructions=\"You are Kaggle Dataset Recommender system.\",\n",
        "          event_handler=EventHandler(),) as stream:\n",
        "          stream.until_done()\n",
        ""
      ],
      "metadata": {
        "id": "9LN416qYjIC1"
      },
      "id": "9LN416qYjIC1",
      "execution_count": 7,
      "outputs": []
    },
    {
      "cell_type": "code",
      "source": [
        "instructions = \"\"\"\n",
        "Project Exposé must be in computer science, machine learning, and artificial intelligence in general. Students might not give a precise description and ideas. They just want to have any proposed topics with datasets.\n",
        "        Your tasks are as follows:\n",
        "        1. You should provide at least 10 different datasets on computer vision, natural language processing, or time series.\n",
        "        2. You should display results in a table for easy viewing.\n",
        "        3. You should group datasets by topic.\n",
        "        4. The response should have the Kaggle Datasets link.\n",
        "\n",
        "        You identify the input language and give the response in the same language, However, you should provide the dataset's information in English.\n",
        "\"\"\""
      ],
      "metadata": {
        "id": "6pDjqOZQzRGt"
      },
      "id": "6pDjqOZQzRGt",
      "execution_count": 8,
      "outputs": []
    },
    {
      "cell_type": "code",
      "source": [
        "llm_obj = LLMChatBot()\n",
        "llm_obj.creation_of_assistant(instructions)\n",
        "llm_obj.creation_of_vector_store(\"knowlege_base_kaggle_datasets.pdf\")\n",
        "llm_obj.creation_of_thread()\n",
        "llm_obj.updating_assistant()"
      ],
      "metadata": {
        "id": "0HnaoQ7zwC3y"
      },
      "id": "0HnaoQ7zwC3y",
      "execution_count": 9,
      "outputs": []
    },
    {
      "cell_type": "code",
      "source": [
        "query =\"\"\"\n",
        "\n",
        "Hope you are doing well. Myself Saddam Rafiq. I am your student of Deep Learning. First of all, I would like to share that my learning experience with you are very helpful, the way you taught us is unique and meaningful.I am writing to express my interest in the possibility of working on my master's thesis under your supervision.I want you to be my supervisor so I can perform well in my thesis.I will be waiting for your kind response.\n",
        "\n",
        "\"\"\""
      ],
      "metadata": {
        "id": "IlmhZJFLzqZn"
      },
      "id": "IlmhZJFLzqZn",
      "execution_count": 10,
      "outputs": []
    },
    {
      "cell_type": "markdown",
      "source": [
        "## CASE 1: WITHOUT STREAMING"
      ],
      "metadata": {
        "id": "Jklh_cCpSYNC"
      },
      "id": "Jklh_cCpSYNC"
    },
    {
      "cell_type": "code",
      "source": [
        "response_1,citations_text = llm_obj.response(query)\n"
      ],
      "metadata": {
        "id": "9egNUcLS75YZ",
        "outputId": "1a428f54-83d8-4d51-814a-4120cd7722fe",
        "colab": {
          "base_uri": "https://localhost:8080/"
        }
      },
      "id": "9egNUcLS75YZ",
      "execution_count": 11,
      "outputs": [
        {
          "output_type": "stream",
          "name": "stdout",
          "text": [
            "----------------------------------------------------------------------------------------------------\n",
            "Citations :\n",
            "\n"
          ]
        }
      ]
    },
    {
      "cell_type": "code",
      "source": [
        "response_1"
      ],
      "metadata": {
        "id": "5r7QpTfyDe-t",
        "outputId": "6fceffc5-b633-40ca-a555-0d3f8cc21dbf",
        "colab": {
          "base_uri": "https://localhost:8080/",
          "height": 157
        }
      },
      "id": "5r7QpTfyDe-t",
      "execution_count": 12,
      "outputs": [
        {
          "output_type": "execute_result",
          "data": {
            "text/plain": [
              "\"Hello Saddam Rafiq,\\n\\nThank you for reaching out and sharing your positive experience in my Deep Learning course. I'm glad to hear that you found the teaching methods effective and meaningful.\\n\\nFor your master's thesis, I'd be happy to discuss potential topics you could explore under my supervision. Below, I have proposed several datasets related to computer vision, natural language processing, and time series which you might find interesting for your research:\\n\\n| **Topic**               | **Dataset**                                                                                     |                                                                 **Kaggle Link** |\\n|-------------------------|-------------------------------------------------------------------------------------------------|------------------------------------------------------------------------------|\\n| **Computer Vision**     | Intel Image Classification                                                                      | [Intel Image Classification](https://www.kaggle.com/puneet6060/intel-image-classification)        |\\n| **Computer Vision**     | COVID-19 Radiography Database                                                                   | [COVID-19 Radiography Database](https://www.kaggle.com/tawsifurrahman/covid19-radiography-database)|\\n| **Computer Vision**     | Plant Seedlings Classification                                                                  | [Plant Seedlings Classification](https://www.kaggle.com/c/plant-seedlings-classification)          |\\n| **Computer Vision**     | Street View House Numbers                                                                       | [Street View House Numbers](https://www.kaggle.com/competitions/svhn-cropped)                      |\\n| **Natural Language Processing (NLP)** | Twitter Sentiment Analysis                                                         | [Twitter Sentiment Analysis](https://www.kaggle.com/kazanova/sentiment140)                         |\\n| **Natural Language Processing (NLP)** | 20 Newsgroups                                                                      | [20 Newsgroups](https://www.kaggle.com/c/20-newsgroups-classifier/data)                            |\\n| **Natural Language Processing (NLP)** | IMDb Movie Reviews                                                                 | [IMDb Movie Reviews](https://www.kaggle.com/lakshmi25npathi/imdb-dataset-of-50k-movie-reviews)     |\\n| **Natural Language Processing (NLP)** | Quora Question Pairs                                                               | [Quora Question Pairs](https://www.kaggle.com/c/quora-question-pairs)                              |\\n| **Time Series**         | UCI Electricity Load                                                                           | [UCI Electricity Load Forecasting](https://www.kaggle.com/syuryu/forecasting-electricity-loadsj)   |\\n| **Time Series**         | Stocks Data                                                                                     | [Stocks Data](https://www.kaggle.com/borismarjanovic/price-volume-data-for-all-us-stocks-etfs)     |\\n| **Time Series**         | Household Power Consumption                                                                    | [Household Power Consumption](https://www.kaggle.com/uciml/electric-power-consumption-data-set)    |\\n\\nPlease take your time to review these datasets and see if any align with your interests. Feel free to propose any other topics or datasets you have in mind. Once you've selected a topic or dataset, we can develop a more detailed plan for your thesis.\\n\\nLooking forward to your response.\\n\\nBest regards,\""
            ],
            "application/vnd.google.colaboratory.intrinsic+json": {
              "type": "string"
            }
          },
          "metadata": {},
          "execution_count": 12
        }
      ]
    },
    {
      "cell_type": "markdown",
      "source": [
        "Hello Saddam Rafiq,\n",
        "\n",
        "Thank you for reaching out and sharing your positive experience in my Deep Learning course. I'm glad to hear that you found the teaching methods effective and meaningful.\n",
        "\n",
        "For your master's thesis, I'd be happy to discuss potential topics you could explore under my supervision. Below, I have proposed several datasets related to computer vision, natural language processing, and time series which you might find interesting for your research:\n",
        "\n",
        "| **Topic**               | **Dataset**                                                                                     |                                                                 **Kaggle Link** |\n",
        "|-------------------------|-------------------------------------------------------------------------------------------------|------------------------------------------------------------------------------|\n",
        "| **Computer Vision**     | Intel Image Classification                                                                      | [Intel Image Classification](https://www.kaggle.com/puneet6060/intel-image-classification)        |\n",
        "| **Computer Vision**     | COVID-19 Radiography Database                                                                   | [COVID-19 Radiography Database](https://www.kaggle.com/tawsifurrahman/covid19-radiography-database)|\n",
        "| **Computer Vision**     | Plant Seedlings Classification                                                                  | [Plant Seedlings Classification](https://www.kaggle.com/c/plant-seedlings-classification)          |\n",
        "| **Computer Vision**     | Street View House Numbers                                                                       | [Street View House Numbers](https://www.kaggle.com/competitions/svhn-cropped)                      |\n",
        "| **Natural Language Processing (NLP)** | Twitter Sentiment Analysis                                                         | [Twitter Sentiment Analysis](https://www.kaggle.com/kazanova/sentiment140)                         |\n",
        "| **Natural Language Processing (NLP)** | 20 Newsgroups                                                                      | [20 Newsgroups](https://www.kaggle.com/c/20-newsgroups-classifier/data)                            |\n",
        "| **Natural Language Processing (NLP)** | IMDb Movie Reviews                                                                 | [IMDb Movie Reviews](https://www.kaggle.com/lakshmi25npathi/imdb-dataset-of-50k-movie-reviews)     |\n",
        "| **Natural Language Processing (NLP)** | Quora Question Pairs                                                               | [Quora Question Pairs](https://www.kaggle.com/c/quora-question-pairs)                              |\n",
        "| **Time Series**         | UCI Electricity Load                                                                           | [UCI Electricity Load Forecasting](https://www.kaggle.com/syuryu/forecasting-electricity-loadsj)   |\n",
        "| **Time Series**         | Stocks Data                                                                                     | [Stocks Data](https://www.kaggle.com/borismarjanovic/price-volume-data-for-all-us-stocks-etfs)     |\n",
        "| **Time Series**         | Household Power Consumption                                                                    | [Household Power Consumption](https://www.kaggle.com/uciml/electric-power-consumption-data-set)    |\n",
        "\n",
        "Please take your time to review these datasets and see if any align with your interests. Feel free to propose any other topics or datasets you have in mind. Once you've selected a topic or dataset, we can develop a more detailed plan for your thesis.\n",
        "\n",
        "Looking forward to your response.\n",
        "\n",
        "Best regards,"
      ],
      "metadata": {
        "id": "IInQXZKbUwBF"
      },
      "id": "IInQXZKbUwBF"
    },
    {
      "cell_type": "code",
      "source": [
        "citations_text"
      ],
      "metadata": {
        "id": "pt2GEeP6PZIW",
        "outputId": "4345bbb3-7d96-4d5f-f37b-0d16a23bcc88",
        "colab": {
          "base_uri": "https://localhost:8080/",
          "height": 35
        }
      },
      "id": "pt2GEeP6PZIW",
      "execution_count": 13,
      "outputs": [
        {
          "output_type": "execute_result",
          "data": {
            "text/plain": [
              "''"
            ],
            "application/vnd.google.colaboratory.intrinsic+json": {
              "type": "string"
            }
          },
          "metadata": {},
          "execution_count": 13
        }
      ]
    },
    {
      "cell_type": "code",
      "source": [
        "response_2,citations_text_2 = llm_obj.response(\"What can you tell me about these datasets ?\")\n"
      ],
      "metadata": {
        "id": "paY1utNIDslt",
        "outputId": "e6a9696b-7587-48f3-8230-7aa6dcf5eede",
        "colab": {
          "base_uri": "https://localhost:8080/"
        }
      },
      "id": "paY1utNIDslt",
      "execution_count": 14,
      "outputs": [
        {
          "output_type": "stream",
          "name": "stdout",
          "text": [
            "----------------------------------------------------------------------------------------------------\n",
            "Citations :\n",
            "\n"
          ]
        }
      ]
    },
    {
      "cell_type": "code",
      "source": [
        "response_2"
      ],
      "metadata": {
        "id": "0CPGM7Z9DztU",
        "outputId": "042d359e-c5d6-479e-ac9a-c1c9515e9ce6",
        "colab": {
          "base_uri": "https://localhost:8080/",
          "height": 157
        }
      },
      "id": "0CPGM7Z9DztU",
      "execution_count": 15,
      "outputs": [
        {
          "output_type": "execute_result",
          "data": {
            "text/plain": [
              "'Certainly! Below is a brief description of each dataset listed, grouped by topic:\\n\\n### Computer Vision\\n\\n1. **Intel Image Classification**\\n   - **Description**: This dataset contains images of natural scenes categorized into six classes: buildings, forest, glacier, mountain, sea, and street.\\n   - **Link**: [Intel Image Classification](https://www.kaggle.com/puneet6060/intel-image-classification)\\n\\n2. **COVID-19 Radiography Database**\\n   - **Description**: This dataset contains X-ray images of patients with COVID-19, normal, and viral pneumonia. It can be used for the early detection of COVID-19 using radiographs.\\n   - **Link**: [COVID-19 Radiography Database](https://www.kaggle.com/tawsifurrahman/covid19-radiography-database)\\n\\n3. **Plant Seedlings Classification**\\n   - **Description**: The dataset contains images of 12 different species of plant seedlings at various stages of growth. The objective is to classify the plant species.\\n   - **Link**: [Plant Seedlings Classification](https://www.kaggle.com/c/plant-seedlings-classification)\\n\\n4. **Street View House Numbers (SVHN)**\\n   - **Description**: This dataset contains cropped images of digits from street view images. It is used for recognizing digits in natural scene images.\\n   - **Link**: [Street View House Numbers](https://www.kaggle.com/competitions/svhn-cropped)\\n\\n### Natural Language Processing (NLP)\\n\\n5. **Twitter Sentiment Analysis (Sentiment140)**\\n   - **Description**: This dataset contains 1.6 million tweets with labels (positive, negative, neutral). It can be used to train models for sentiment analysis.\\n   - **Link**: [Twitter Sentiment Analysis](https://www.kaggle.com/kazanova/sentiment140)\\n\\n6. **20 Newsgroups**\\n   - **Description**: The dataset contains approximately 20,000 newsgroup documents spread across 20 different newsgroups. It is useful for text classification tasks.\\n   - **Link**: [20 Newsgroups](https://www.kaggle.com/c/20-newsgroups-classifier/data)\\n\\n7. **IMDb Movie Reviews**\\n   - **Description**: This dataset contains 50,000 movie reviews, categorized into positive and negative reviews. It is commonly used for sentiment analysis.\\n   - **Link**: [IMDb Movie Reviews](https://www.kaggle.com/lakshmi25npathi/imdb-dataset-of-50k-movie-reviews)\\n\\n8. **Quora Question Pairs**\\n   - **Description**: This dataset consists of question pairs from Quora, labeled as duplicate (if they are the same question) or not duplicate, making it useful for semantic similarity tasks.\\n   - **Link**: [Quora Question Pairs](https://www.kaggle.com/c/quora-question-pairs)\\n\\n### Time Series\\n\\n9. **UCI Electricity Load Forecasting**\\n   - **Description**: This dataset features electricity consumption data, suitable for forecasting and time-series analysis tasks related to energy consumption.\\n   - **Link**: [UCI Electricity Load Forecast](https://www.kaggle.com/syuryu/forecasting-electricity-loadsj)\\n\\n10. **Stocks Data**\\n    - **Description**: This dataset includes historical price and volume data for all US stocks and ETFs. It can be used for financial market analysis and stock price prediction.\\n    - **Link**: [Stocks Data](https://www.kaggle.com/borismarjanovic/price-volume-data-for-all-us-stocks-etfs)\\n\\n11. **Household Power Consumption**\\n    - **Description**: The dataset contains measurements of electrical power consumption in one household over a period of four years. It is useful for time-series forecasting.\\n    - **Link**: [Household Power Consumption](https://www.kaggle.com/uciml/electric-power-consumption-data-set)\\n\\nThese datasets provide a range of options across different domains of machine learning. Depending on your interests, you can choose one of these datasets to explore further in your thesis. If you have specific questions about any dataset or need guidance on a particular topic, feel free to ask.'"
            ],
            "application/vnd.google.colaboratory.intrinsic+json": {
              "type": "string"
            }
          },
          "metadata": {},
          "execution_count": 15
        }
      ]
    },
    {
      "cell_type": "markdown",
      "source": [
        "Certainly! Below is a brief description of each dataset listed, grouped by topic:\n",
        "\n",
        "### Computer Vision\n",
        "\n",
        "1. **Intel Image Classification**\n",
        "   - **Description**: This dataset contains images of natural scenes categorized into six classes: buildings, forest, glacier, mountain, sea, and street.\n",
        "   - **Link**: [Intel Image Classification](https://www.kaggle.com/puneet6060/intel-image-classification)\n",
        "\n",
        "2. **COVID-19 Radiography Database**\n",
        "   - **Description**: This dataset contains X-ray images of patients with COVID-19, normal, and viral pneumonia. It can be used for the early detection of COVID-19 using radiographs.\n",
        "   - **Link**: [COVID-19 Radiography Database](https://www.kaggle.com/tawsifurrahman/covid19-radiography-database)\n",
        "\n",
        "3. **Plant Seedlings Classification**\n",
        "   - **Description**: The dataset contains images of 12 different species of plant seedlings at various stages of growth. The objective is to classify the plant species.\n",
        "   - **Link**: [Plant Seedlings Classification](https://www.kaggle.com/c/plant-seedlings-classification)\n",
        "\n",
        "4. **Street View House Numbers (SVHN)**\n",
        "   - **Description**: This dataset contains cropped images of digits from street view images. It is used for recognizing digits in natural scene images.\n",
        "   - **Link**: [Street View House Numbers](https://www.kaggle.com/competitions/svhn-cropped)\n",
        "\n",
        "### Natural Language Processing (NLP)\n",
        "\n",
        "5. **Twitter Sentiment Analysis (Sentiment140)**\n",
        "   - **Description**: This dataset contains 1.6 million tweets with labels (positive, negative, neutral). It can be used to train models for sentiment analysis.\n",
        "   - **Link**: [Twitter Sentiment Analysis](https://www.kaggle.com/kazanova/sentiment140)\n",
        "\n",
        "6. **20 Newsgroups**\n",
        "   - **Description**: The dataset contains approximately 20,000 newsgroup documents spread across 20 different newsgroups. It is useful for text classification tasks.\n",
        "   - **Link**: [20 Newsgroups](https://www.kaggle.com/c/20-newsgroups-classifier/data)\n",
        "\n",
        "7. **IMDb Movie Reviews**\n",
        "   - **Description**: This dataset contains 50,000 movie reviews, categorized into positive and negative reviews. It is commonly used for sentiment analysis.\n",
        "   - **Link**: [IMDb Movie Reviews](https://www.kaggle.com/lakshmi25npathi/imdb-dataset-of-50k-movie-reviews)\n",
        "\n",
        "8. **Quora Question Pairs**\n",
        "   - **Description**: This dataset consists of question pairs from Quora, labeled as duplicate (if they are the same question) or not duplicate, making it useful for semantic similarity tasks.\n",
        "   - **Link**: [Quora Question Pairs](https://www.kaggle.com/c/quora-question-pairs)\n",
        "\n",
        "### Time Series\n",
        "\n",
        "9. **UCI Electricity Load Forecasting**\n",
        "   - **Description**: This dataset features electricity consumption data, suitable for forecasting and time-series analysis tasks related to energy consumption.\n",
        "   - **Link**: [UCI Electricity Load Forecast](https://www.kaggle.com/syuryu/forecasting-electricity-loadsj)\n",
        "\n",
        "10. **Stocks Data**\n",
        "    - **Description**: This dataset includes historical price and volume data for all US stocks and ETFs. It can be used for financial market analysis and stock price prediction.\n",
        "    - **Link**: [Stocks Data](https://www.kaggle.com/borismarjanovic/price-volume-data-for-all-us-stocks-etfs)\n",
        "\n",
        "11. **Household Power Consumption**\n",
        "    - **Description**: The dataset contains measurements of electrical power consumption in one household over a period of four years. It is useful for time-series forecasting.\n",
        "    - **Link**: [Household Power Consumption](https://www.kaggle.com/uciml/electric-power-consumption-data-set)\n",
        "\n",
        "These datasets provide a range of options across different domains of machine learning. Depending on your interests, you can choose one of these datasets to explore further in your thesis. If you have specific questions about any dataset or need guidance on a particular topic, feel free to ask."
      ],
      "metadata": {
        "id": "aq6x4snxU8S8"
      },
      "id": "aq6x4snxU8S8"
    },
    {
      "cell_type": "code",
      "source": [
        "citations_text_2"
      ],
      "metadata": {
        "id": "MTKZTcZuPlnr",
        "outputId": "e3612508-e2ec-4a81-93aa-42cd5ae70a38",
        "colab": {
          "base_uri": "https://localhost:8080/",
          "height": 35
        }
      },
      "id": "MTKZTcZuPlnr",
      "execution_count": 16,
      "outputs": [
        {
          "output_type": "execute_result",
          "data": {
            "text/plain": [
              "''"
            ],
            "application/vnd.google.colaboratory.intrinsic+json": {
              "type": "string"
            }
          },
          "metadata": {},
          "execution_count": 16
        }
      ]
    },
    {
      "cell_type": "code",
      "source": [
        "response_3 = llm_obj.response(\"What is the working title of my thesis?\")\n"
      ],
      "metadata": {
        "id": "44Amj_AID8Iv",
        "outputId": "04f3b5db-ca1a-466f-ef81-7e8f601df705",
        "colab": {
          "base_uri": "https://localhost:8080/"
        }
      },
      "id": "44Amj_AID8Iv",
      "execution_count": 17,
      "outputs": [
        {
          "output_type": "stream",
          "name": "stdout",
          "text": [
            "----------------------------------------------------------------------------------------------------\n",
            "Citations :\n",
            "\n"
          ]
        }
      ]
    },
    {
      "cell_type": "code",
      "source": [
        "response_3[0]"
      ],
      "metadata": {
        "id": "lkejFaIvL8vd",
        "outputId": "b19dc2ee-bb28-4e79-970f-3fa7087fc3e0",
        "colab": {
          "base_uri": "https://localhost:8080/",
          "height": 157
        }
      },
      "id": "lkejFaIvL8vd",
      "execution_count": 18,
      "outputs": [
        {
          "output_type": "execute_result",
          "data": {
            "text/plain": [
              "'Choosing a working title for your thesis depends on the specific dataset and research question you decide to pursue. Here are some example working titles for various topics and datasets:\\n\\n### Computer Vision\\n\\n1. **Intel Image Classification**\\n   - **Working Title**: \"Image Classification of Natural Scenes Using Deep Learning Techniques on the Intel Image Dataset\"\\n   \\n2. **COVID-19 Radiography Database**\\n   - **Working Title**: \"Automated Detection of COVID-19 from X-ray Images Using Convolutional Neural Networks\"\\n\\n3. **Plant Seedlings Classification**\\n   - **Working Title**: \"Species Classification of Plant Seedlings Using Deep Learning Approaches\"\\n\\n4. **Street View House Numbers (SVHN)**\\n   - **Working Title**: \"Digit Recognition in Natural Scene Images Using Deep Neural Networks\"\\n\\n### Natural Language Processing (NLP)\\n\\n5. **Twitter Sentiment Analysis (Sentiment140)**\\n   - **Working Title**: \"Sentiment Analysis of Twitter Posts Using Natural Language Processing and Machine Learning\"\\n\\n6. **20 Newsgroups**\\n   - **Working Title**: \"Text Classification of Newsgroup Documents Using Machine Learning Techniques\"\\n\\n7. **IMDb Movie Reviews**\\n   - **Working Title**: \"Sentiment Analysis of Movie Reviews Using Deep Learning Approaches\"\\n\\n8. **Quora Question Pairs**\\n   - **Working Title**: \"Semantic Similarity Detection in Quora Question Pairs Using Natural Language Processing\"\\n\\n### Time Series\\n\\n9. **UCI Electricity Load Forecasting**\\n   - **Working Title**: \"Time Series Analysis and Forecasting of Electricity Load Data Using Machine Learning Models\"\\n\\n10. **Stocks Data**\\n    - **Working Title**: \"Predictive Modeling of Stock Prices Using Time-Series Data and Machine Learning\"\\n\\n11. **Household Power Consumption**\\n    - **Working Title**: \"Forecasting Household Electrical Power Consumption Using Time-Series Analysis Techniques\"\\n\\nYou can refine your working title based on the specific problem statement, objectives, and methods you plan to use in your research. Once you\\'ve decided on a specific dataset and research focus, we can further tailor the title to better fit your thesis.'"
            ],
            "application/vnd.google.colaboratory.intrinsic+json": {
              "type": "string"
            }
          },
          "metadata": {},
          "execution_count": 18
        }
      ]
    },
    {
      "cell_type": "markdown",
      "source": [
        "Choosing a working title for your thesis depends on the specific dataset and research question you decide to pursue. Here are some example working titles for various topics and datasets:\n",
        "\n",
        "### Computer Vision\n",
        "\n",
        "1. **Intel Image Classification**\n",
        "   - **Working Title**: \"Image Classification of Natural Scenes Using Deep Learning Techniques on the Intel Image Dataset\"\n",
        "   \n",
        "2. **COVID-19 Radiography Database**\n",
        "   - **Working Title**: \"Automated Detection of COVID-19 from X-ray Images Using Convolutional Neural Networks\"\n",
        "\n",
        "3. **Plant Seedlings Classification**\n",
        "   - **Working Title**: \"Species Classification of Plant Seedlings Using Deep Learning Approaches\"\n",
        "\n",
        "4. **Street View House Numbers (SVHN)**\n",
        "   - **Working Title**: \"Digit Recognition in Natural Scene Images Using Deep Neural Networks\"\n",
        "\n",
        "### Natural Language Processing (NLP)\n",
        "\n",
        "5. **Twitter Sentiment Analysis (Sentiment140)**\n",
        "   - **Working Title**: \"Sentiment Analysis of Twitter Posts Using Natural Language Processing and Machine Learning\"\n",
        "\n",
        "6. **20 Newsgroups**\n",
        "   - **Working Title**: \"Text Classification of Newsgroup Documents Using Machine Learning Techniques\"\n",
        "\n",
        "7. **IMDb Movie Reviews**\n",
        "   - **Working Title**: \"Sentiment Analysis of Movie Reviews Using Deep Learning Approaches\"\n",
        "\n",
        "8. **Quora Question Pairs**\n",
        "   - **Working Title**: \"Semantic Similarity Detection in Quora Question Pairs Using Natural Language Processing\"\n",
        "\n",
        "### Time Series\n",
        "\n",
        "9. **UCI Electricity Load Forecasting**\n",
        "   - **Working Title**: \"Time Series Analysis and Forecasting of Electricity Load Data Using Machine Learning Models\"\n",
        "\n",
        "10. **Stocks Data**\n",
        "    - **Working Title**: \"Predictive Modeling of Stock Prices Using Time-Series Data and Machine Learning\"\n",
        "\n",
        "11. **Household Power Consumption**\n",
        "    - **Working Title**: \"Forecasting Household Electrical Power Consumption Using Time-Series Analysis Techniques\"\n",
        "\n",
        "You can refine your working title based on the specific problem statement, objectives, and methods you plan to use in your research. Once you've decided on a specific dataset and research focus, we can further tailor the title to better fit your thesis."
      ],
      "metadata": {
        "id": "-IPiOd0OVdmk"
      },
      "id": "-IPiOd0OVdmk"
    },
    {
      "cell_type": "code",
      "source": [],
      "metadata": {
        "id": "sK6DAZmbT899"
      },
      "id": "sK6DAZmbT899",
      "execution_count": 18,
      "outputs": []
    },
    {
      "cell_type": "code",
      "source": [
        "response_4 = llm_obj.response(\"Summurise the extract of my text and your recommended dataset. Also tell me reason why you have suggested me particular datasets.\")"
      ],
      "metadata": {
        "id": "W1FgUcjTL_KJ",
        "outputId": "635deaec-197a-4580-dfc9-c4a7ac98da79",
        "colab": {
          "base_uri": "https://localhost:8080/"
        }
      },
      "id": "W1FgUcjTL_KJ",
      "execution_count": 19,
      "outputs": [
        {
          "output_type": "stream",
          "name": "stdout",
          "text": [
            "----------------------------------------------------------------------------------------------------\n",
            "Citations :\n",
            "\n"
          ]
        }
      ]
    },
    {
      "cell_type": "code",
      "source": [
        "response_4[0]"
      ],
      "metadata": {
        "id": "X_EUC1CQMrNh",
        "outputId": "d5c33083-784d-4b62-e109-e61184b10da3",
        "colab": {
          "base_uri": "https://localhost:8080/",
          "height": 157
        }
      },
      "id": "X_EUC1CQMrNh",
      "execution_count": 20,
      "outputs": [
        {
          "output_type": "execute_result",
          "data": {
            "text/plain": [
              "\"### Summary of Your Text\\nYou, Saddam Rafiq, are expressing your interest in working on your master's thesis under the supervision of your Deep Learning instructor. You mention that your learning experience in the course has been helpful and effective, and you are eager to perform well in your thesis with the instructor's guidance. You are seeking recommendations for potential thesis topics and datasets to work with.\\n\\n### Recommended Datasets and Reasons\\nThe suggested datasets are grouped by three main topics: computer vision, natural language processing (NLP), and time series. Here's a summary of the recommended datasets and the reasons for their selection:\\n\\n#### Computer Vision\\n1. **Intel Image Classification**\\n   - **Description**: Dataset containing images of six natural scene categories.\\n   - **Reason**: Excellent for exploring image classification techniques using deep neural networks.\\n\\n2. **COVID-19 Radiography Database**\\n   - **Description**: Contains X-ray images for the detection of COVID-19.\\n   - **Reason**: Timely and impactful research topic, suitable for medical imaging and healthcare applications.\\n\\n3. **Plant Seedlings Classification**\\n   - **Description**: Images of different plant species at various growth stages.\\n   - **Reason**: Relevant for agricultural applications and species classification.\\n\\n4. **Street View House Numbers (SVHN)**\\n   - **Description**: Cropped images of digits from street views.\\n   - **Reason**: Popular benchmark dataset for digit recognition in natural images, good for OCR (Optical Character Recognition) tasks.\\n\\n#### Natural Language Processing (NLP)\\n5. **Twitter Sentiment Analysis (Sentiment140)**\\n   - **Description**: Dataset of tweets labeled for sentiment analysis.\\n   - **Reason**: Ideal for sentiment analysis and opinion mining in social media data.\\n\\n6. **20 Newsgroups**\\n   - **Description**: Documents from 20 different newsgroups.\\n   - **Reason**: Classic dataset for text classification and clustering tasks.\\n\\n7. **IMDb Movie Reviews**\\n   - **Description**: Movie reviews labeled as positive or negative.\\n   - **Reason**: Widely used for sentiment analysis tasks in textual data.\\n\\n8. **Quora Question Pairs**\\n   - **Description**: Pairs of questions labeled as duplicate or not.\\n   - **Reason**: Suitable for tasks involving semantic similarity and question answering.\\n\\n#### Time Series\\n9. **UCI Electricity Load Forecasting**\\n   - **Description**: Electricity consumption data for forecasting.\\n   - **Reason**: Relevant for energy management and load forecasting applications.\\n\\n10. **Stocks Data**\\n    - **Description**: Historical stock price and volume data.\\n    - **Reason**: Useful for financial analysis and predictive modeling in stock markets.\\n\\n11. **Household Power Consumption**\\n    - **Description**: Electrical power consumption measurements in a household.\\n    - **Reason**: Practical application in energy consumption forecasting and smart home management.\\n\\n### Reason for Dataset Suggestions\\n- **Variety of Applications**: These datasets span across key areas such as healthcare, agriculture, finance, and energy, providing you with the option to choose a topic that interests you the most.\\n- **Strong Real-World Relevance**: Each dataset corresponds to real-world problems, ensuring that your research has practical implications and social impact.\\n- **Popularity and Benchmarking**: Many of these datasets are popular and well-benchmarked, offering a good foundation and comparison for your results.\\n- **Diverse Techniques**: These datasets allow for the exploration of diverse machine learning techniques, including deep learning for image and text data, and time-series analysis for forecasting.\\n\\nThese reasons collectively aim to provide a robust and impactful start to your master's thesis, facilitating meaningful research and potential contributions to the field.\""
            ],
            "application/vnd.google.colaboratory.intrinsic+json": {
              "type": "string"
            }
          },
          "metadata": {},
          "execution_count": 20
        }
      ]
    },
    {
      "cell_type": "markdown",
      "source": [
        "### Summary of Your Text\n",
        "You, Saddam Rafiq, are expressing your interest in working on your master's thesis under the supervision of your Deep Learning instructor. You mention that your learning experience in the course has been helpful and effective, and you are eager to perform well in your thesis with the instructor's guidance. You are seeking recommendations for potential thesis topics and datasets to work with.\n",
        "\n",
        "### Recommended Datasets and Reasons\n",
        "The suggested datasets are grouped by three main topics: computer vision, natural language processing (NLP), and time series. Here's a summary of the recommended datasets and the reasons for their selection:\n",
        "\n",
        "#### Computer Vision\n",
        "1. **Intel Image Classification**\n",
        "   - **Description**: Dataset containing images of six natural scene categories.\n",
        "   - **Reason**: Excellent for exploring image classification techniques using deep neural networks.\n",
        "\n",
        "2. **COVID-19 Radiography Database**\n",
        "   - **Description**: Contains X-ray images for the detection of COVID-19.\n",
        "   - **Reason**: Timely and impactful research topic, suitable for medical imaging and healthcare applications.\n",
        "\n",
        "3. **Plant Seedlings Classification**\n",
        "   - **Description**: Images of different plant species at various growth stages.\n",
        "   - **Reason**: Relevant for agricultural applications and species classification.\n",
        "\n",
        "4. **Street View House Numbers (SVHN)**\n",
        "   - **Description**: Cropped images of digits from street views.\n",
        "   - **Reason**: Popular benchmark dataset for digit recognition in natural images, good for OCR (Optical Character Recognition) tasks.\n",
        "\n",
        "#### Natural Language Processing (NLP)\n",
        "5. **Twitter Sentiment Analysis (Sentiment140)**\n",
        "   - **Description**: Dataset of tweets labeled for sentiment analysis.\n",
        "   - **Reason**: Ideal for sentiment analysis and opinion mining in social media data.\n",
        "\n",
        "6. **20 Newsgroups**\n",
        "   - **Description**: Documents from 20 different newsgroups.\n",
        "   - **Reason**: Classic dataset for text classification and clustering tasks.\n",
        "\n",
        "7. **IMDb Movie Reviews**\n",
        "   - **Description**: Movie reviews labeled as positive or negative.\n",
        "   - **Reason**: Widely used for sentiment analysis tasks in textual data.\n",
        "\n",
        "8. **Quora Question Pairs**\n",
        "   - **Description**: Pairs of questions labeled as duplicate or not.\n",
        "   - **Reason**: Suitable for tasks involving semantic similarity and question answering.\n",
        "\n",
        "#### Time Series\n",
        "9. **UCI Electricity Load Forecasting**\n",
        "   - **Description**: Electricity consumption data for forecasting.\n",
        "   - **Reason**: Relevant for energy management and load forecasting applications.\n",
        "\n",
        "10. **Stocks Data**\n",
        "    - **Description**: Historical stock price and volume data.\n",
        "    - **Reason**: Useful for financial analysis and predictive modeling in stock markets.\n",
        "\n",
        "11. **Household Power Consumption**\n",
        "    - **Description**: Electrical power consumption measurements in a household.\n",
        "    - **Reason**: Practical application in energy consumption forecasting and smart home management.\n",
        "\n",
        "### Reason for Dataset Suggestions\n",
        "- **Variety of Applications**: These datasets span across key areas such as healthcare, agriculture, finance, and energy, providing you with the option to choose a topic that interests you the most.\n",
        "- **Strong Real-World Relevance**: Each dataset corresponds to real-world problems, ensuring that your research has practical implications and social impact.\n",
        "- **Popularity and Benchmarking**: Many of these datasets are popular and well-benchmarked, offering a good foundation and comparison for your results.\n",
        "- **Diverse Techniques**: These datasets allow for the exploration of diverse machine learning techniques, including deep learning for image and text data, and time-series analysis for forecasting.\n",
        "\n",
        "These reasons collectively aim to provide a robust and impactful start to your master's thesis, facilitating meaningful research and potential contributions to the field."
      ],
      "metadata": {
        "id": "KCTDta-5Vh0B"
      },
      "id": "KCTDta-5Vh0B"
    },
    {
      "cell_type": "code",
      "source": [
        "response_5 = llm_obj.response(\"Can you please tell me the sources of your recommendations ? Is there any file from which you have got this information about datasets ?\")"
      ],
      "metadata": {
        "id": "75xPUqomMxPm",
        "outputId": "b11b5974-e4ee-42d2-ab4d-bc178614e557",
        "colab": {
          "base_uri": "https://localhost:8080/"
        }
      },
      "id": "75xPUqomMxPm",
      "execution_count": 21,
      "outputs": [
        {
          "output_type": "stream",
          "name": "stdout",
          "text": [
            "----------------------------------------------------------------------------------------------------\n",
            "Citations :\n",
            "\n"
          ]
        }
      ]
    },
    {
      "cell_type": "code",
      "source": [
        "response_5[0]"
      ],
      "metadata": {
        "id": "WxqZt2JDNB_8",
        "outputId": "048c1896-79e8-4ea0-9cd6-ac53bff298be",
        "colab": {
          "base_uri": "https://localhost:8080/",
          "height": 157
        }
      },
      "id": "WxqZt2JDNB_8",
      "execution_count": 22,
      "outputs": [
        {
          "output_type": "execute_result",
          "data": {
            "text/plain": [
              "'The information about the datasets and recommendations provided earlier is sourced from publicly accessible data repositories, specifically from Kaggle, a well-known platform for datasets and data science competitions.\\n\\n### Sources of Dataset Information\\n1. **Intel Image Classification**\\n   - **Source**: [Intel Image Classification on Kaggle](https://www.kaggle.com/puneet6060/intel-image-classification)\\n\\n2. **COVID-19 Radiography Database**\\n   - **Source**: [COVID-19 Radiography Database on Kaggle](https://www.kaggle.com/tawsifurrahman/covid19-radiography-database)\\n\\n3. **Plant Seedlings Classification**\\n   - **Source**: [Plant Seedlings Classification on Kaggle](https://www.kaggle.com/c/plant-seedlings-classification)\\n\\n4. **Street View House Numbers (SVHN)**\\n   - **Source**: [Street View House Numbers on Kaggle](https://www.kaggle.com/competitions/svhn-cropped)\\n\\n5. **Twitter Sentiment Analysis (Sentiment140)**\\n   - **Source**: [Twitter Sentiment Analysis on Kaggle](https://www.kaggle.com/kazanova/sentiment140)\\n\\n6. **20 Newsgroups**\\n   - **Source**: [20 Newsgroups on Kaggle](https://www.kaggle.com/c/20-newsgroups-classifier/data)\\n\\n7. **IMDb Movie Reviews**\\n   - **Source**: [IMDb Movie Reviews on Kaggle](https://www.kaggle.com/lakshmi25npathi/imdb-dataset-of-50k-movie-reviews)\\n\\n8. **Quora Question Pairs**\\n   - **Source**: [Quora Question Pairs on Kaggle](https://www.kaggle.com/c/quora-question-pairs)\\n\\n9. **UCI Electricity Load Forecasting**\\n   - **Source**: [UCI Electricity Load Forecasting on Kaggle](https://www.kaggle.com/syuryu/forecasting-electricity-loadsj)\\n\\n10. **Stocks Data**\\n    - **Source**: [Stocks Data on Kaggle](https://www.kaggle.com/borismarjanovic/price-volume-data-for-all-us-stocks-etfs)\\n\\n11. **Household Power Consumption**\\n    - **Source**: [Household Power Consumption on Kaggle](https://www.kaggle.com/uciml/electric-power-consumption-data-set)\\n\\nNo specific file from the uploaded documents was used to gather this dataset information; instead, it was based on my understanding of publicly available resources on the Kaggle platform, a common repository for data scientists and learners for accessing quality datasets for various domains of machine learning.'"
            ],
            "application/vnd.google.colaboratory.intrinsic+json": {
              "type": "string"
            }
          },
          "metadata": {},
          "execution_count": 22
        }
      ]
    },
    {
      "cell_type": "markdown",
      "source": [
        "The information about the datasets and recommendations provided earlier is sourced from publicly accessible data repositories, specifically from Kaggle, a well-known platform for datasets and data science competitions.\n",
        "\n",
        "### Sources of Dataset Information\n",
        "1. **Intel Image Classification**\n",
        "   - **Source**: [Intel Image Classification on Kaggle](https://www.kaggle.com/puneet6060/intel-image-classification)\n",
        "\n",
        "2. **COVID-19 Radiography Database**\n",
        "   - **Source**: [COVID-19 Radiography Database on Kaggle](https://www.kaggle.com/tawsifurrahman/covid19-radiography-database)\n",
        "\n",
        "3. **Plant Seedlings Classification**\n",
        "   - **Source**: [Plant Seedlings Classification on Kaggle](https://www.kaggle.com/c/plant-seedlings-classification)\n",
        "\n",
        "4. **Street View House Numbers (SVHN)**\n",
        "   - **Source**: [Street View House Numbers on Kaggle](https://www.kaggle.com/competitions/svhn-cropped)\n",
        "\n",
        "5. **Twitter Sentiment Analysis (Sentiment140)**\n",
        "   - **Source**: [Twitter Sentiment Analysis on Kaggle](https://www.kaggle.com/kazanova/sentiment140)\n",
        "\n",
        "6. **20 Newsgroups**\n",
        "   - **Source**: [20 Newsgroups on Kaggle](https://www.kaggle.com/c/20-newsgroups-classifier/data)\n",
        "\n",
        "7. **IMDb Movie Reviews**\n",
        "   - **Source**: [IMDb Movie Reviews on Kaggle](https://www.kaggle.com/lakshmi25npathi/imdb-dataset-of-50k-movie-reviews)\n",
        "\n",
        "8. **Quora Question Pairs**\n",
        "   - **Source**: [Quora Question Pairs on Kaggle](https://www.kaggle.com/c/quora-question-pairs)\n",
        "\n",
        "9. **UCI Electricity Load Forecasting**\n",
        "   - **Source**: [UCI Electricity Load Forecasting on Kaggle](https://www.kaggle.com/syuryu/forecasting-electricity-loadsj)\n",
        "\n",
        "10. **Stocks Data**\n",
        "    - **Source**: [Stocks Data on Kaggle](https://www.kaggle.com/borismarjanovic/price-volume-data-for-all-us-stocks-etfs)\n",
        "\n",
        "11. **Household Power Consumption**\n",
        "    - **Source**: [Household Power Consumption on Kaggle](https://www.kaggle.com/uciml/electric-power-consumption-data-set)\n",
        "\n",
        "No specific file from the uploaded documents was used to gather this dataset information; instead, it was based on my understanding of publicly available resources on the Kaggle platform, a common repository for data scientists and learners for accessing quality datasets for various domains of machine learning."
      ],
      "metadata": {
        "id": "OpRQffHGVo0a"
      },
      "id": "OpRQffHGVo0a"
    },
    {
      "cell_type": "code",
      "source": [
        "response_6 = llm_obj.response(\"Which document you have used to take this data from ? What is the context file here ?\")"
      ],
      "metadata": {
        "id": "ODJHA-soNUVN",
        "outputId": "8949257a-3fe1-4b69-a094-047346e85d27",
        "colab": {
          "base_uri": "https://localhost:8080/"
        }
      },
      "id": "ODJHA-soNUVN",
      "execution_count": 23,
      "outputs": [
        {
          "output_type": "stream",
          "name": "stdout",
          "text": [
            "----------------------------------------------------------------------------------------------------\n",
            "Citations :\n",
            "[0] knowlege_base_kaggle_datasets.pdf\n",
            "[1] knowlege_base_kaggle_datasets.pdf\n",
            "[2] knowlege_base_kaggle_datasets.pdf\n",
            "[3] knowlege_base_kaggle_datasets.pdf\n",
            "[4] knowlege_base_kaggle_datasets.pdf\n",
            "[5] knowlege_base_kaggle_datasets.pdf\n",
            "[6] knowlege_base_kaggle_datasets.pdf\n",
            "[7] knowlege_base_kaggle_datasets.pdf\n",
            "[8] knowlege_base_kaggle_datasets.pdf\n",
            "[9] knowlege_base_kaggle_datasets.pdf\n",
            "[10] knowlege_base_kaggle_datasets.pdf\n"
          ]
        }
      ]
    },
    {
      "cell_type": "code",
      "source": [
        "response_6[0]"
      ],
      "metadata": {
        "id": "5js7pspIWDXY",
        "outputId": "8149c507-4b80-4e0c-8397-c7836ddf5e1a",
        "colab": {
          "base_uri": "https://localhost:8080/",
          "height": 157
        }
      },
      "id": "5js7pspIWDXY",
      "execution_count": 31,
      "outputs": [
        {
          "output_type": "execute_result",
          "data": {
            "text/plain": [
              "\"### Summary of Your Text\\nYou, Saddam Rafiq, expressed interest in working on your master's thesis under the supervision of your Deep Learning instructor. You highlighted the effectiveness of the teaching methods in the course and are eager to excel in your thesis with the instructor's guidance. You are seeking recommendations for potential thesis topics and relevant datasets.\\n\\n### Recommended Datasets and Reasons\\nThe recommended datasets span across three main areas: computer vision, natural language processing (NLP), and time series. Below are brief descriptions and reasons for each dataset:\\n\\n#### Computer Vision\\n1. **Intel Image Classification**\\n   - **Description**: Images of natural scenes in six categories.\\n   - **Reason**: Ideal for image classification projects using deep neural networks.\\n   - **Source**: [Intel Image Classification on Kaggle](https://www.kaggle.com/puneet6060/intel-image-classification)[0]\\n\\n2. **COVID-19 Radiography Database**\\n   - **Description**: X-rays of patients categorized as COVID-19, normal, or other types of pneumonia.\\n   - **Reason**: Current, socially impactful research suitable for medical imaging.\\n   - **Source**: [COVID-19 Radiography Database on Kaggle](https://www.kaggle.com/tawsifurrahman/covid19-radiography-database)[0]\\n\\n3. **Plant Seedlings Classification**\\n   - **Description**: Images of seedlings for 12 different plant species.\\n   - **Reason**: Useful for agricultural applications and species identification tasks.\\n   - **Source**: [Plant Seedlings Classification on Kaggle](https://www.kaggle.com/c/plant-seedlings-classification)[0]\\n\\n4. **Street View House Numbers (SVHN)**\\n   - **Description**: Cropped images of house numbers from street view images.\\n   - **Reason**: Benchmark dataset ideal for digit recognition and OCR tasks.\\n   - **Source**: [Street View House Numbers on Kaggle](https://www.kaggle.com/competitions/svhn-cropped)[0]\\n\\n#### Natural Language Processing (NLP)\\n5. **Twitter Sentiment Analysis (Sentiment140)**\\n   - **Description**: Tweets labeled for sentiment analysis (positive, negative, neutral).\\n   - **Reason**: Excellent for sentiment analysis and social media mining.\\n   - **Source**: [Twitter Sentiment Analysis on Kaggle](https://www.kaggle.com/kazanova/sentiment140)[0]\\n\\n6. **20 Newsgroups**\\n   - **Description**: Text documents from 20 different newsgroups.\\n   - **Reason**: Classic dataset for text classification and clustering.\\n   - **Source**: [20 Newsgroups on Kaggle](https://www.kaggle.com/c/20-newsgroups-classifier/data)[0]\\n\\n7. **IMDb Movie Reviews**\\n   - **Description**: Reviews of movies labeled as positive or negative.\\n   - **Reason**: Widely used for sentiment analysis tasks in textual data.\\n   - **Source**: [IMDb Movie Reviews on Kaggle](https://www.kaggle.com/lakshmi25npathi/imdb-dataset-of-50k-movie-reviews)[0]\\n\\n8. **Quora Question Pairs**\\n   - **Description**: Pairs of questions labeled as duplicate or not.\\n   - **Reason**: Useful for tasks involving semantic similarity and question answering.\\n   - **Source**: [Quora Question Pairs on Kaggle](https://www.kaggle.com/c/quora-question-pairs)[0]\\n\\n#### Time Series\\n9. **UCI Electricity Load Forecasting**\\n   - **Description**: Data on electricity consumption for load forecasting.\\n   - **Reason**: Relevant for energy management and forecasting applications.\\n   - **Source**: [UCI Electricity Load Forecasting on Kaggle](https://www.kaggle.com/syuryu/forecasting-electricity-loadsj)[0]\\n\\n10. **Stocks Data**\\n    - **Description**: Historical price and volume data for US stocks.\\n    - **Reason**: Useful for financial market analysis and stock price prediction.\\n    - **Source**: [Stocks Data on Kaggle](https://www.kaggle.com/borismarjanovic/price-volume-data-for-all-us-stocks-etfs)[0]\\n\\n11. **Household Power Consumption**\\n    - **Description**: Household electrical power usage over four years.\\n    - **Reason**: Practical for time-series forecasting in smart home contexts.\\n    - **Source**: [Household Power Consumption on Kaggle](https://www.kaggle.com/uciml/electric-power-consumption-data-set)[0]\\n\\n### Reason for Dataset Suggestions\\n- **Variety of Applications**: These datasets cover a range of real-world applications, including healthcare, finance, energy, and social media.\\n- **Strong Real-World Relevance**: They address socially impactful and timely issues, ensuring practical implications and significance in research.\\n- **Popularity and Benchmarking**: Many of these datasets are popular benchmarks in their respective fields, providing a solid foundation and comparisons for your research.\\n- **Diverse Techniques**: Enable exploration of various machine learning techniques, including deep learning for vision and text, and time-series analysis for forecasting.\\n\\nThese attributes collectively support your goal of conducting meaningful and impactful research for your master's thesis.\""
            ],
            "application/vnd.google.colaboratory.intrinsic+json": {
              "type": "string"
            }
          },
          "metadata": {},
          "execution_count": 31
        }
      ]
    },
    {
      "cell_type": "code",
      "source": [
        "response_6[1]"
      ],
      "metadata": {
        "id": "gzMHFYUqNlWi",
        "outputId": "139ac4db-96ad-4fcd-ebc1-c2d092ab583f",
        "colab": {
          "base_uri": "https://localhost:8080/",
          "height": 87
        }
      },
      "id": "gzMHFYUqNlWi",
      "execution_count": 30,
      "outputs": [
        {
          "output_type": "execute_result",
          "data": {
            "text/plain": [
              "'[0] knowlege_base_kaggle_datasets.pdf\\n[1] knowlege_base_kaggle_datasets.pdf\\n[2] knowlege_base_kaggle_datasets.pdf\\n[3] knowlege_base_kaggle_datasets.pdf\\n[4] knowlege_base_kaggle_datasets.pdf\\n[5] knowlege_base_kaggle_datasets.pdf\\n[6] knowlege_base_kaggle_datasets.pdf\\n[7] knowlege_base_kaggle_datasets.pdf\\n[8] knowlege_base_kaggle_datasets.pdf\\n[9] knowlege_base_kaggle_datasets.pdf\\n[10] knowlege_base_kaggle_datasets.pdf'"
            ],
            "application/vnd.google.colaboratory.intrinsic+json": {
              "type": "string"
            }
          },
          "metadata": {},
          "execution_count": 30
        }
      ]
    },
    {
      "cell_type": "markdown",
      "source": [
        "[0] knowlege_base_kaggle_datasets.pdf\n",
        "[1] knowlege_base_kaggle_datasets.pdf\n",
        "[2] knowlege_base_kaggle_datasets.pdf\n",
        "[3] knowlege_base_kaggle_datasets.pdf\n",
        "[4] knowlege_base_kaggle_datasets.pdf\n",
        "[5] knowlege_base_kaggle_datasets.pdf\n",
        "[6] knowlege_base_kaggle_datasets.pdf\n",
        "[7] knowlege_base_kaggle_datasets.pdf\n",
        "[8] knowlege_base_kaggle_datasets.pdf\n",
        "[9] knowlege_base_kaggle_datasets.pdf\n",
        "[10] knowlege_base_kaggle_datasets.pdf"
      ],
      "metadata": {
        "id": "ckEItA_wV_8j"
      },
      "id": "ckEItA_wV_8j"
    },
    {
      "cell_type": "markdown",
      "source": [
        "## CASE 2: WITH STREAMING"
      ],
      "metadata": {
        "id": "8M_KeonZScjc"
      },
      "id": "8M_KeonZScjc"
    },
    {
      "cell_type": "code",
      "source": [
        "instructions = \"\"\"\n",
        "Project Exposé must be in computer science, machine learning, and artificial intelligence in general. Students might not give a precise description and ideas. They just want to have any proposed topics with datasets.\n",
        "        Your tasks are as follows:\n",
        "        1. You should provide at least 10 different datasets on computer vision, natural language processing, or time series.\n",
        "        2. You should display results in a table for easy viewing.\n",
        "        3. You should group datasets by topic.\n",
        "        4. The response should have the Kaggle Datasets link.\n",
        "\n",
        "        You identify the input language and give the response in the same language, However, you should provide the dataset's information in English.\n",
        "\"\"\""
      ],
      "metadata": {
        "id": "ltXD0I9XTKBF"
      },
      "id": "ltXD0I9XTKBF",
      "execution_count": 25,
      "outputs": []
    },
    {
      "cell_type": "code",
      "source": [
        "query =\"\"\"\n",
        "\n",
        "My name is Akashdeep Singh and I am a student of MS in Data Science.I am currently working on my thesis proposal. In my thesis, I would like to explore Improvement in process optimization through application of data analytics: A case of Amazon. As this topic falls within your field of expertise, I was wondering if you’d bewilling to supervise my thesis.I attached my draft thesis proposal to this email. Please let me know if you have any questions about the topic or process.I am looking forward to hearing from you.\n",
        "\"\"\""
      ],
      "metadata": {
        "id": "5sj-lRDFSpED"
      },
      "id": "5sj-lRDFSpED",
      "execution_count": 26,
      "outputs": []
    },
    {
      "cell_type": "code",
      "source": [
        "llm_obj_2 = LLMChatBot()\n",
        "llm_obj_2.creation_of_assistant(instructions)\n",
        "llm_obj_2.creation_of_vector_store(\"knowlege_base_kaggle_datasets.pdf\")\n",
        "llm_obj_2.creation_of_thread()\n",
        "llm_obj_2.updating_assistant()"
      ],
      "metadata": {
        "id": "CAOibiCBTNHw"
      },
      "id": "CAOibiCBTNHw",
      "execution_count": 27,
      "outputs": []
    },
    {
      "cell_type": "code",
      "source": [
        "response_11 = llm_obj_2.response(query, streaming = True)"
      ],
      "metadata": {
        "id": "ctKci2OuSewR",
        "outputId": "420a068a-295c-49de-a4f7-58bf1769f392",
        "colab": {
          "base_uri": "https://localhost:8080/"
        }
      },
      "id": "ctKci2OuSewR",
      "execution_count": 28,
      "outputs": [
        {
          "output_type": "stream",
          "name": "stdout",
          "text": [
            "\n",
            "assistant > file_search\n",
            "\n",
            "\n",
            "assistant > To explore improvements in process optimization at Amazon through data analytics for your thesis proposal, you might find the following datasets on Kaggle particularly useful:\n",
            "\n",
            "1. [Amazon Best Sellers](https://www.kaggle.com/datasets/edwardtoledolpez/amazon-mexico-top-50-best-sellers) - This dataset includes top 50 best sellers on Amazon Mexico and Brazil, which can be used for sales and trend analysis .\n",
            "\n",
            "2. [Amazon Business Research Analyst Dataset](https://www.kaggle.com/datasets/vikramxd/amazon-business-research-analyst-dataset) - This dataset is tailored for business research and can help in extracting significant insights for optimization and analytics projects at Amazon .\n",
            "\n",
            "3. [Amazon US Customer Reviews Dataset](https://www.kaggle.com/datasets/cynthiarempel/amazon-us-customer-reviews-dataset) - A large dataset containing customer reviews, which can provide valuable insights into customer satisfaction and areas for process improvement .\n",
            "\n",
            "These datasets can be used to perform various types of analysis, such as:\n",
            "\n",
            "- **Sentiment Analysis**: Analyzing customer reviews to identify pain points and potential areas for process improvements.\n",
            "- **Sales Trend Analysis**: Identifying best-selling products can help to optimize inventory management and marketing strategies.\n",
            "- **Operational Efficiency Analysis**: Using business research data to identify inefficiencies in business processes.\n",
            "\n",
            "By leveraging these datasets, you can build strong analytical models to uncover insights and suggest optimization strategies in different areas of Amazon's operations. Good luck with your thesis!\n",
            "----------------------------------------------------------------------------------------------------\n",
            "Citations :\n",
            "\n"
          ]
        }
      ]
    },
    {
      "cell_type": "code",
      "source": [
        "response_12 = llm_obj_2.response(\"What is the context document from which you have provided me this data ?\", streaming = True)"
      ],
      "metadata": {
        "id": "4cv7MuyIS0-Z",
        "outputId": "300e67dc-66a1-42b5-b72d-21a442d63d33",
        "colab": {
          "base_uri": "https://localhost:8080/"
        }
      },
      "id": "4cv7MuyIS0-Z",
      "execution_count": 32,
      "outputs": [
        {
          "output_type": "stream",
          "name": "stdout",
          "text": [
            "\n",
            "assistant > file_search\n",
            "\n",
            "\n",
            "assistant > The dataset recommendations provided are derived from the \"knowlege_base_kaggle_datasets.pdf\" document, which lists various datasets available on Kaggle that can be relevant for data analysis and optimization projects. Specifically:\n",
            "\n",
            "1. **Amazon Best Sellers** dataset can be used to analyze sales trends and performance of popular products on Amazon Mexico, helping in sales and inventory optimization .\n",
            "\n",
            "2. **Amazon Business Research Analyst Dataset** is designed for business research, which includes data relevant for analyzing business decisions and operational processes at Amazon, useful for making process improvements through data analytics .\n",
            "\n",
            "3. **Amazon US Customer Reviews Dataset** contains a large collection of customer reviews, useful for sentiment analysis to identify areas of customer satisfaction and dissatisfaction, and subsequently optimize customer service and product offerings .\n",
            "----------------------------------------------------------------------------------------------------\n",
            "Citations :\n",
            "\n"
          ]
        }
      ]
    },
    {
      "cell_type": "code",
      "source": [],
      "metadata": {
        "id": "-xTaR_azWSb2"
      },
      "id": "-xTaR_azWSb2",
      "execution_count": null,
      "outputs": []
    }
  ],
  "metadata": {
    "kernelspec": {
      "display_name": "Python 3 (ipykernel)",
      "language": "python",
      "name": "python3"
    },
    "language_info": {
      "codemirror_mode": {
        "name": "ipython",
        "version": 3
      },
      "file_extension": ".py",
      "mimetype": "text/x-python",
      "name": "python",
      "nbconvert_exporter": "python",
      "pygments_lexer": "ipython3",
      "version": "3.8.8rc1"
    },
    "colab": {
      "provenance": [],
      "include_colab_link": true
    }
  },
  "nbformat": 4,
  "nbformat_minor": 5
}